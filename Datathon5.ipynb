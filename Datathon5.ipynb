{
  "nbformat": 4,
  "nbformat_minor": 0,
  "metadata": {
    "colab": {
      "provenance": [],
      "toc_visible": true,
      "collapsed_sections": [
        "8KGfeZTEBMoI",
        "yfViwUXznjab",
        "EKiCVvgJ9f_m",
        "2IZ1sUOljRLl",
        "p_eRBQoMdV0w",
        "gyev59XPdjoY",
        "51HFtXkieDki"
      ],
      "include_colab_link": true
    },
    "kernelspec": {
      "name": "python3",
      "display_name": "Python 3"
    },
    "language_info": {
      "name": "python"
    }
  },
  "cells": [
    {
      "cell_type": "markdown",
      "metadata": {
        "id": "view-in-github",
        "colab_type": "text"
      },
      "source": [
        "<a href=\"https://colab.research.google.com/github/gpostill/Datathon5/blob/main/Datathon5.ipynb\" target=\"_parent\"><img src=\"https://colab.research.google.com/assets/colab-badge.svg\" alt=\"Open In Colab\"/></a>"
      ]
    },
    {
      "cell_type": "markdown",
      "source": [
        "###Datathon 5\n",
        "\n",
        "<b> Team: </b> Gemma Postill, Khalil Kain, Emily Lau <br>\n",
        "<b> Team Number: </b> 13<br>\n",
        "<b> Course: </b> CHL5239 Fall 2023<br>\n",
        "<b> Date: </b> 2023-11-16 <br>\n",
        "<b> Dataset: </b> multi-dimensional time-series data <br>\n"
      ],
      "metadata": {
        "id": "HRZhuZwocHn4"
      }
    },
    {
      "cell_type": "markdown",
      "source": [
        "# 1. Data exploration"
      ],
      "metadata": {
        "id": "8KGfeZTEBMoI"
      }
    },
    {
      "cell_type": "code",
      "execution_count": null,
      "metadata": {
        "colab": {
          "base_uri": "https://localhost:8080/"
        },
        "id": "0l2bdtmnbYV_",
        "outputId": "348e0353-4e61-4455-e283-7924ac32e964"
      },
      "outputs": [
        {
          "output_type": "stream",
          "name": "stdout",
          "text": [
            "Drive already mounted at /content/drive; to attempt to forcibly remount, call drive.mount(\"/content/drive\", force_remount=True).\n"
          ]
        }
      ],
      "source": [
        "#mount drive - for Import Option 1\n",
        "from google.colab import drive\n",
        "drive.mount('/content/drive')\n",
        "\n",
        "\n",
        "#importing the necessary packages\n",
        "from google.colab import files\n",
        "import os\n",
        "import io\n",
        "import numpy as np\n",
        "import pandas as pd\n",
        "import matplotlib.pyplot as plt\n",
        "import seaborn as sns\n",
        "\n",
        "from sklearn.model_selection import train_test_split\n",
        "from sklearn.preprocessing import StandardScaler\n",
        "\n",
        "from tensorflow.keras.preprocessing.sequence import pad_sequences\n",
        "from sklearn.utils import resample\n",
        "from tqdm import tqdm\n",
        "\n",
        "\n",
        "import torch as t\n",
        "import torch.nn as nn\n",
        "from torch.optim import Adam\n",
        "from torch.utils.data import TensorDataset, DataLoader\n",
        "\n",
        "\n",
        "import warnings\n",
        "warnings.filterwarnings('ignore')"
      ]
    },
    {
      "cell_type": "code",
      "source": [
        "# Load the CSV file into a DataFrame\n",
        "# df = pd.read_csv(\"drive/My Drive/mhealth.csv\") #Gemma\n",
        "df = pd.read_csv('/content/drive/MyDrive/Colab Notebooks/Datathon 5/mhealth.csv') #Emily\n",
        "\n",
        "df.head() #Visualizing the first few rows of the data\n"
      ],
      "metadata": {
        "colab": {
          "base_uri": "https://localhost:8080/",
          "height": 206
        },
        "id": "JXESRYOcd1-k",
        "outputId": "9e33fe33-6bcf-4a04-c94a-debcb28550c1"
      },
      "execution_count": null,
      "outputs": [
        {
          "output_type": "execute_result",
          "data": {
            "text/plain": [
              "      alx     aly      alz       glx      gly      glz     arx     ary  \\\n",
              "0  2.1849 -9.6967  0.63077  0.103900 -0.84053 -0.68762 -8.6499 -4.5781   \n",
              "1  2.3876 -9.5080  0.68389  0.085343 -0.83865 -0.68369 -8.6275 -4.3198   \n",
              "2  2.4086 -9.5674  0.68113  0.085343 -0.83865 -0.68369 -8.5055 -4.2772   \n",
              "3  2.1814 -9.4301  0.55031  0.085343 -0.83865 -0.68369 -8.6279 -4.3163   \n",
              "4  2.4173 -9.3889  0.71098  0.085343 -0.83865 -0.68369 -8.7008 -4.1459   \n",
              "\n",
              "        arz      grx     gry       grz  Activity   subject  \n",
              "0  0.187760 -0.44902 -1.0103  0.034483         0  subject1  \n",
              "1  0.023595 -0.44902 -1.0103  0.034483         0  subject1  \n",
              "2  0.275720 -0.44902 -1.0103  0.034483         0  subject1  \n",
              "3  0.367520 -0.45686 -1.0082  0.025862         0  subject1  \n",
              "4  0.407290 -0.45686 -1.0082  0.025862         0  subject1  "
            ],
            "text/html": [
              "\n",
              "  <div id=\"df-08eca4c0-64e8-4477-9fca-d49d06c3583b\" class=\"colab-df-container\">\n",
              "    <div>\n",
              "<style scoped>\n",
              "    .dataframe tbody tr th:only-of-type {\n",
              "        vertical-align: middle;\n",
              "    }\n",
              "\n",
              "    .dataframe tbody tr th {\n",
              "        vertical-align: top;\n",
              "    }\n",
              "\n",
              "    .dataframe thead th {\n",
              "        text-align: right;\n",
              "    }\n",
              "</style>\n",
              "<table border=\"1\" class=\"dataframe\">\n",
              "  <thead>\n",
              "    <tr style=\"text-align: right;\">\n",
              "      <th></th>\n",
              "      <th>alx</th>\n",
              "      <th>aly</th>\n",
              "      <th>alz</th>\n",
              "      <th>glx</th>\n",
              "      <th>gly</th>\n",
              "      <th>glz</th>\n",
              "      <th>arx</th>\n",
              "      <th>ary</th>\n",
              "      <th>arz</th>\n",
              "      <th>grx</th>\n",
              "      <th>gry</th>\n",
              "      <th>grz</th>\n",
              "      <th>Activity</th>\n",
              "      <th>subject</th>\n",
              "    </tr>\n",
              "  </thead>\n",
              "  <tbody>\n",
              "    <tr>\n",
              "      <th>0</th>\n",
              "      <td>2.1849</td>\n",
              "      <td>-9.6967</td>\n",
              "      <td>0.63077</td>\n",
              "      <td>0.103900</td>\n",
              "      <td>-0.84053</td>\n",
              "      <td>-0.68762</td>\n",
              "      <td>-8.6499</td>\n",
              "      <td>-4.5781</td>\n",
              "      <td>0.187760</td>\n",
              "      <td>-0.44902</td>\n",
              "      <td>-1.0103</td>\n",
              "      <td>0.034483</td>\n",
              "      <td>0</td>\n",
              "      <td>subject1</td>\n",
              "    </tr>\n",
              "    <tr>\n",
              "      <th>1</th>\n",
              "      <td>2.3876</td>\n",
              "      <td>-9.5080</td>\n",
              "      <td>0.68389</td>\n",
              "      <td>0.085343</td>\n",
              "      <td>-0.83865</td>\n",
              "      <td>-0.68369</td>\n",
              "      <td>-8.6275</td>\n",
              "      <td>-4.3198</td>\n",
              "      <td>0.023595</td>\n",
              "      <td>-0.44902</td>\n",
              "      <td>-1.0103</td>\n",
              "      <td>0.034483</td>\n",
              "      <td>0</td>\n",
              "      <td>subject1</td>\n",
              "    </tr>\n",
              "    <tr>\n",
              "      <th>2</th>\n",
              "      <td>2.4086</td>\n",
              "      <td>-9.5674</td>\n",
              "      <td>0.68113</td>\n",
              "      <td>0.085343</td>\n",
              "      <td>-0.83865</td>\n",
              "      <td>-0.68369</td>\n",
              "      <td>-8.5055</td>\n",
              "      <td>-4.2772</td>\n",
              "      <td>0.275720</td>\n",
              "      <td>-0.44902</td>\n",
              "      <td>-1.0103</td>\n",
              "      <td>0.034483</td>\n",
              "      <td>0</td>\n",
              "      <td>subject1</td>\n",
              "    </tr>\n",
              "    <tr>\n",
              "      <th>3</th>\n",
              "      <td>2.1814</td>\n",
              "      <td>-9.4301</td>\n",
              "      <td>0.55031</td>\n",
              "      <td>0.085343</td>\n",
              "      <td>-0.83865</td>\n",
              "      <td>-0.68369</td>\n",
              "      <td>-8.6279</td>\n",
              "      <td>-4.3163</td>\n",
              "      <td>0.367520</td>\n",
              "      <td>-0.45686</td>\n",
              "      <td>-1.0082</td>\n",
              "      <td>0.025862</td>\n",
              "      <td>0</td>\n",
              "      <td>subject1</td>\n",
              "    </tr>\n",
              "    <tr>\n",
              "      <th>4</th>\n",
              "      <td>2.4173</td>\n",
              "      <td>-9.3889</td>\n",
              "      <td>0.71098</td>\n",
              "      <td>0.085343</td>\n",
              "      <td>-0.83865</td>\n",
              "      <td>-0.68369</td>\n",
              "      <td>-8.7008</td>\n",
              "      <td>-4.1459</td>\n",
              "      <td>0.407290</td>\n",
              "      <td>-0.45686</td>\n",
              "      <td>-1.0082</td>\n",
              "      <td>0.025862</td>\n",
              "      <td>0</td>\n",
              "      <td>subject1</td>\n",
              "    </tr>\n",
              "  </tbody>\n",
              "</table>\n",
              "</div>\n",
              "    <div class=\"colab-df-buttons\">\n",
              "\n",
              "  <div class=\"colab-df-container\">\n",
              "    <button class=\"colab-df-convert\" onclick=\"convertToInteractive('df-08eca4c0-64e8-4477-9fca-d49d06c3583b')\"\n",
              "            title=\"Convert this dataframe to an interactive table.\"\n",
              "            style=\"display:none;\">\n",
              "\n",
              "  <svg xmlns=\"http://www.w3.org/2000/svg\" height=\"24px\" viewBox=\"0 -960 960 960\">\n",
              "    <path d=\"M120-120v-720h720v720H120Zm60-500h600v-160H180v160Zm220 220h160v-160H400v160Zm0 220h160v-160H400v160ZM180-400h160v-160H180v160Zm440 0h160v-160H620v160ZM180-180h160v-160H180v160Zm440 0h160v-160H620v160Z\"/>\n",
              "  </svg>\n",
              "    </button>\n",
              "\n",
              "  <style>\n",
              "    .colab-df-container {\n",
              "      display:flex;\n",
              "      gap: 12px;\n",
              "    }\n",
              "\n",
              "    .colab-df-convert {\n",
              "      background-color: #E8F0FE;\n",
              "      border: none;\n",
              "      border-radius: 50%;\n",
              "      cursor: pointer;\n",
              "      display: none;\n",
              "      fill: #1967D2;\n",
              "      height: 32px;\n",
              "      padding: 0 0 0 0;\n",
              "      width: 32px;\n",
              "    }\n",
              "\n",
              "    .colab-df-convert:hover {\n",
              "      background-color: #E2EBFA;\n",
              "      box-shadow: 0px 1px 2px rgba(60, 64, 67, 0.3), 0px 1px 3px 1px rgba(60, 64, 67, 0.15);\n",
              "      fill: #174EA6;\n",
              "    }\n",
              "\n",
              "    .colab-df-buttons div {\n",
              "      margin-bottom: 4px;\n",
              "    }\n",
              "\n",
              "    [theme=dark] .colab-df-convert {\n",
              "      background-color: #3B4455;\n",
              "      fill: #D2E3FC;\n",
              "    }\n",
              "\n",
              "    [theme=dark] .colab-df-convert:hover {\n",
              "      background-color: #434B5C;\n",
              "      box-shadow: 0px 1px 3px 1px rgba(0, 0, 0, 0.15);\n",
              "      filter: drop-shadow(0px 1px 2px rgba(0, 0, 0, 0.3));\n",
              "      fill: #FFFFFF;\n",
              "    }\n",
              "  </style>\n",
              "\n",
              "    <script>\n",
              "      const buttonEl =\n",
              "        document.querySelector('#df-08eca4c0-64e8-4477-9fca-d49d06c3583b button.colab-df-convert');\n",
              "      buttonEl.style.display =\n",
              "        google.colab.kernel.accessAllowed ? 'block' : 'none';\n",
              "\n",
              "      async function convertToInteractive(key) {\n",
              "        const element = document.querySelector('#df-08eca4c0-64e8-4477-9fca-d49d06c3583b');\n",
              "        const dataTable =\n",
              "          await google.colab.kernel.invokeFunction('convertToInteractive',\n",
              "                                                    [key], {});\n",
              "        if (!dataTable) return;\n",
              "\n",
              "        const docLinkHtml = 'Like what you see? Visit the ' +\n",
              "          '<a target=\"_blank\" href=https://colab.research.google.com/notebooks/data_table.ipynb>data table notebook</a>'\n",
              "          + ' to learn more about interactive tables.';\n",
              "        element.innerHTML = '';\n",
              "        dataTable['output_type'] = 'display_data';\n",
              "        await google.colab.output.renderOutput(dataTable, element);\n",
              "        const docLink = document.createElement('div');\n",
              "        docLink.innerHTML = docLinkHtml;\n",
              "        element.appendChild(docLink);\n",
              "      }\n",
              "    </script>\n",
              "  </div>\n",
              "\n",
              "\n",
              "<div id=\"df-dcaa24a4-fae2-4a75-b128-375da578f3a4\">\n",
              "  <button class=\"colab-df-quickchart\" onclick=\"quickchart('df-dcaa24a4-fae2-4a75-b128-375da578f3a4')\"\n",
              "            title=\"Suggest charts\"\n",
              "            style=\"display:none;\">\n",
              "\n",
              "<svg xmlns=\"http://www.w3.org/2000/svg\" height=\"24px\"viewBox=\"0 0 24 24\"\n",
              "     width=\"24px\">\n",
              "    <g>\n",
              "        <path d=\"M19 3H5c-1.1 0-2 .9-2 2v14c0 1.1.9 2 2 2h14c1.1 0 2-.9 2-2V5c0-1.1-.9-2-2-2zM9 17H7v-7h2v7zm4 0h-2V7h2v10zm4 0h-2v-4h2v4z\"/>\n",
              "    </g>\n",
              "</svg>\n",
              "  </button>\n",
              "\n",
              "<style>\n",
              "  .colab-df-quickchart {\n",
              "      --bg-color: #E8F0FE;\n",
              "      --fill-color: #1967D2;\n",
              "      --hover-bg-color: #E2EBFA;\n",
              "      --hover-fill-color: #174EA6;\n",
              "      --disabled-fill-color: #AAA;\n",
              "      --disabled-bg-color: #DDD;\n",
              "  }\n",
              "\n",
              "  [theme=dark] .colab-df-quickchart {\n",
              "      --bg-color: #3B4455;\n",
              "      --fill-color: #D2E3FC;\n",
              "      --hover-bg-color: #434B5C;\n",
              "      --hover-fill-color: #FFFFFF;\n",
              "      --disabled-bg-color: #3B4455;\n",
              "      --disabled-fill-color: #666;\n",
              "  }\n",
              "\n",
              "  .colab-df-quickchart {\n",
              "    background-color: var(--bg-color);\n",
              "    border: none;\n",
              "    border-radius: 50%;\n",
              "    cursor: pointer;\n",
              "    display: none;\n",
              "    fill: var(--fill-color);\n",
              "    height: 32px;\n",
              "    padding: 0;\n",
              "    width: 32px;\n",
              "  }\n",
              "\n",
              "  .colab-df-quickchart:hover {\n",
              "    background-color: var(--hover-bg-color);\n",
              "    box-shadow: 0 1px 2px rgba(60, 64, 67, 0.3), 0 1px 3px 1px rgba(60, 64, 67, 0.15);\n",
              "    fill: var(--button-hover-fill-color);\n",
              "  }\n",
              "\n",
              "  .colab-df-quickchart-complete:disabled,\n",
              "  .colab-df-quickchart-complete:disabled:hover {\n",
              "    background-color: var(--disabled-bg-color);\n",
              "    fill: var(--disabled-fill-color);\n",
              "    box-shadow: none;\n",
              "  }\n",
              "\n",
              "  .colab-df-spinner {\n",
              "    border: 2px solid var(--fill-color);\n",
              "    border-color: transparent;\n",
              "    border-bottom-color: var(--fill-color);\n",
              "    animation:\n",
              "      spin 1s steps(1) infinite;\n",
              "  }\n",
              "\n",
              "  @keyframes spin {\n",
              "    0% {\n",
              "      border-color: transparent;\n",
              "      border-bottom-color: var(--fill-color);\n",
              "      border-left-color: var(--fill-color);\n",
              "    }\n",
              "    20% {\n",
              "      border-color: transparent;\n",
              "      border-left-color: var(--fill-color);\n",
              "      border-top-color: var(--fill-color);\n",
              "    }\n",
              "    30% {\n",
              "      border-color: transparent;\n",
              "      border-left-color: var(--fill-color);\n",
              "      border-top-color: var(--fill-color);\n",
              "      border-right-color: var(--fill-color);\n",
              "    }\n",
              "    40% {\n",
              "      border-color: transparent;\n",
              "      border-right-color: var(--fill-color);\n",
              "      border-top-color: var(--fill-color);\n",
              "    }\n",
              "    60% {\n",
              "      border-color: transparent;\n",
              "      border-right-color: var(--fill-color);\n",
              "    }\n",
              "    80% {\n",
              "      border-color: transparent;\n",
              "      border-right-color: var(--fill-color);\n",
              "      border-bottom-color: var(--fill-color);\n",
              "    }\n",
              "    90% {\n",
              "      border-color: transparent;\n",
              "      border-bottom-color: var(--fill-color);\n",
              "    }\n",
              "  }\n",
              "</style>\n",
              "\n",
              "  <script>\n",
              "    async function quickchart(key) {\n",
              "      const quickchartButtonEl =\n",
              "        document.querySelector('#' + key + ' button');\n",
              "      quickchartButtonEl.disabled = true;  // To prevent multiple clicks.\n",
              "      quickchartButtonEl.classList.add('colab-df-spinner');\n",
              "      try {\n",
              "        const charts = await google.colab.kernel.invokeFunction(\n",
              "            'suggestCharts', [key], {});\n",
              "      } catch (error) {\n",
              "        console.error('Error during call to suggestCharts:', error);\n",
              "      }\n",
              "      quickchartButtonEl.classList.remove('colab-df-spinner');\n",
              "      quickchartButtonEl.classList.add('colab-df-quickchart-complete');\n",
              "    }\n",
              "    (() => {\n",
              "      let quickchartButtonEl =\n",
              "        document.querySelector('#df-dcaa24a4-fae2-4a75-b128-375da578f3a4 button');\n",
              "      quickchartButtonEl.style.display =\n",
              "        google.colab.kernel.accessAllowed ? 'block' : 'none';\n",
              "    })();\n",
              "  </script>\n",
              "</div>\n",
              "    </div>\n",
              "  </div>\n"
            ]
          },
          "metadata": {},
          "execution_count": 48
        }
      ]
    },
    {
      "cell_type": "markdown",
      "source": [
        "##Descriptive Analysis of the Data"
      ],
      "metadata": {
        "id": "yfViwUXznjab"
      }
    },
    {
      "cell_type": "code",
      "source": [
        "#understanding the data\n",
        "\n",
        "df.info() #Understanding the columns of the data\n",
        "\n",
        "df.describe() #Finding the max and min of features in the dataset\n"
      ],
      "metadata": {
        "colab": {
          "base_uri": "https://localhost:8080/",
          "height": 716
        },
        "id": "7heX728Bm0Dc",
        "outputId": "f3ec9069-eb95-4b4c-a889-561858414d6c"
      },
      "execution_count": null,
      "outputs": [
        {
          "output_type": "stream",
          "name": "stdout",
          "text": [
            "<class 'pandas.core.frame.DataFrame'>\n",
            "RangeIndex: 999999 entries, 0 to 999998\n",
            "Data columns (total 14 columns):\n",
            " #   Column    Non-Null Count   Dtype  \n",
            "---  ------    --------------   -----  \n",
            " 0   alx       999999 non-null  float64\n",
            " 1   aly       999999 non-null  float64\n",
            " 2   alz       999999 non-null  float64\n",
            " 3   glx       999999 non-null  float64\n",
            " 4   gly       999999 non-null  float64\n",
            " 5   glz       999999 non-null  float64\n",
            " 6   arx       999999 non-null  float64\n",
            " 7   ary       999999 non-null  float64\n",
            " 8   arz       999999 non-null  float64\n",
            " 9   grx       999999 non-null  float64\n",
            " 10  gry       999999 non-null  float64\n",
            " 11  grz       999999 non-null  float64\n",
            " 12  Activity  999999 non-null  int64  \n",
            " 13  subject   999999 non-null  object \n",
            "dtypes: float64(12), int64(1), object(1)\n",
            "memory usage: 106.8+ MB\n"
          ]
        },
        {
          "output_type": "execute_result",
          "data": {
            "text/plain": [
              "                 alx            aly            alz            glx  \\\n",
              "count  999999.000000  999999.000000  999999.000000  999999.000000   \n",
              "mean        1.473954      -9.618162      -0.944714      -0.023928   \n",
              "std         3.751845       4.076683       5.333969       0.495758   \n",
              "min       -22.146000     -19.619000     -19.373000      -2.146600   \n",
              "25%         0.115100     -10.116000      -2.662400      -0.454550   \n",
              "50%         1.336800      -9.644800      -0.016372      -0.070501   \n",
              "75%         2.586900      -9.034300       1.371500       0.426720   \n",
              "max        20.054000      21.161000      25.015000      60.484000   \n",
              "\n",
              "                 gly            glz            arx           ary  \\\n",
              "count  999999.000000  999999.000000  999999.000000  999999.00000   \n",
              "mean       -0.616830      -0.131466      -3.578801      -5.72591   \n",
              "std         0.354135       0.547774       4.770602       5.70559   \n",
              "min        -7.789900      -2.567800     -22.361000     -18.97200   \n",
              "25%        -0.816140      -0.561890      -5.984100      -9.36790   \n",
              "50%        -0.703560      -0.137520      -2.859700      -7.35990   \n",
              "75%        -0.542210       0.345780      -1.021200      -2.45280   \n",
              "max         2.011300       2.770100      19.864000      22.19100   \n",
              "\n",
              "                 arz            grx            gry            grz  \\\n",
              "count  999999.000000  999999.000000  999999.000000  999999.000000   \n",
              "mean        2.645165      -0.293943      -0.450610       0.283440   \n",
              "std         3.897641       0.528506       0.564118       0.558707   \n",
              "min       -18.239000      -8.339200      -3.570800      -2.689700   \n",
              "25%         0.406120      -0.711760      -0.882960      -0.211210   \n",
              "50%         2.231200      -0.372550      -0.622180       0.325430   \n",
              "75%         5.201200       0.049020      -0.080082       0.786640   \n",
              "max        25.741000       3.319600       1.556500       2.750000   \n",
              "\n",
              "            Activity  \n",
              "count  999999.000000  \n",
              "mean        1.702181  \n",
              "std         3.250841  \n",
              "min         0.000000  \n",
              "25%         0.000000  \n",
              "50%         0.000000  \n",
              "75%         2.000000  \n",
              "max        12.000000  "
            ],
            "text/html": [
              "\n",
              "  <div id=\"df-96deb0ea-38cf-42cc-916e-20ef94eb3f0a\" class=\"colab-df-container\">\n",
              "    <div>\n",
              "<style scoped>\n",
              "    .dataframe tbody tr th:only-of-type {\n",
              "        vertical-align: middle;\n",
              "    }\n",
              "\n",
              "    .dataframe tbody tr th {\n",
              "        vertical-align: top;\n",
              "    }\n",
              "\n",
              "    .dataframe thead th {\n",
              "        text-align: right;\n",
              "    }\n",
              "</style>\n",
              "<table border=\"1\" class=\"dataframe\">\n",
              "  <thead>\n",
              "    <tr style=\"text-align: right;\">\n",
              "      <th></th>\n",
              "      <th>alx</th>\n",
              "      <th>aly</th>\n",
              "      <th>alz</th>\n",
              "      <th>glx</th>\n",
              "      <th>gly</th>\n",
              "      <th>glz</th>\n",
              "      <th>arx</th>\n",
              "      <th>ary</th>\n",
              "      <th>arz</th>\n",
              "      <th>grx</th>\n",
              "      <th>gry</th>\n",
              "      <th>grz</th>\n",
              "      <th>Activity</th>\n",
              "    </tr>\n",
              "  </thead>\n",
              "  <tbody>\n",
              "    <tr>\n",
              "      <th>count</th>\n",
              "      <td>999999.000000</td>\n",
              "      <td>999999.000000</td>\n",
              "      <td>999999.000000</td>\n",
              "      <td>999999.000000</td>\n",
              "      <td>999999.000000</td>\n",
              "      <td>999999.000000</td>\n",
              "      <td>999999.000000</td>\n",
              "      <td>999999.00000</td>\n",
              "      <td>999999.000000</td>\n",
              "      <td>999999.000000</td>\n",
              "      <td>999999.000000</td>\n",
              "      <td>999999.000000</td>\n",
              "      <td>999999.000000</td>\n",
              "    </tr>\n",
              "    <tr>\n",
              "      <th>mean</th>\n",
              "      <td>1.473954</td>\n",
              "      <td>-9.618162</td>\n",
              "      <td>-0.944714</td>\n",
              "      <td>-0.023928</td>\n",
              "      <td>-0.616830</td>\n",
              "      <td>-0.131466</td>\n",
              "      <td>-3.578801</td>\n",
              "      <td>-5.72591</td>\n",
              "      <td>2.645165</td>\n",
              "      <td>-0.293943</td>\n",
              "      <td>-0.450610</td>\n",
              "      <td>0.283440</td>\n",
              "      <td>1.702181</td>\n",
              "    </tr>\n",
              "    <tr>\n",
              "      <th>std</th>\n",
              "      <td>3.751845</td>\n",
              "      <td>4.076683</td>\n",
              "      <td>5.333969</td>\n",
              "      <td>0.495758</td>\n",
              "      <td>0.354135</td>\n",
              "      <td>0.547774</td>\n",
              "      <td>4.770602</td>\n",
              "      <td>5.70559</td>\n",
              "      <td>3.897641</td>\n",
              "      <td>0.528506</td>\n",
              "      <td>0.564118</td>\n",
              "      <td>0.558707</td>\n",
              "      <td>3.250841</td>\n",
              "    </tr>\n",
              "    <tr>\n",
              "      <th>min</th>\n",
              "      <td>-22.146000</td>\n",
              "      <td>-19.619000</td>\n",
              "      <td>-19.373000</td>\n",
              "      <td>-2.146600</td>\n",
              "      <td>-7.789900</td>\n",
              "      <td>-2.567800</td>\n",
              "      <td>-22.361000</td>\n",
              "      <td>-18.97200</td>\n",
              "      <td>-18.239000</td>\n",
              "      <td>-8.339200</td>\n",
              "      <td>-3.570800</td>\n",
              "      <td>-2.689700</td>\n",
              "      <td>0.000000</td>\n",
              "    </tr>\n",
              "    <tr>\n",
              "      <th>25%</th>\n",
              "      <td>0.115100</td>\n",
              "      <td>-10.116000</td>\n",
              "      <td>-2.662400</td>\n",
              "      <td>-0.454550</td>\n",
              "      <td>-0.816140</td>\n",
              "      <td>-0.561890</td>\n",
              "      <td>-5.984100</td>\n",
              "      <td>-9.36790</td>\n",
              "      <td>0.406120</td>\n",
              "      <td>-0.711760</td>\n",
              "      <td>-0.882960</td>\n",
              "      <td>-0.211210</td>\n",
              "      <td>0.000000</td>\n",
              "    </tr>\n",
              "    <tr>\n",
              "      <th>50%</th>\n",
              "      <td>1.336800</td>\n",
              "      <td>-9.644800</td>\n",
              "      <td>-0.016372</td>\n",
              "      <td>-0.070501</td>\n",
              "      <td>-0.703560</td>\n",
              "      <td>-0.137520</td>\n",
              "      <td>-2.859700</td>\n",
              "      <td>-7.35990</td>\n",
              "      <td>2.231200</td>\n",
              "      <td>-0.372550</td>\n",
              "      <td>-0.622180</td>\n",
              "      <td>0.325430</td>\n",
              "      <td>0.000000</td>\n",
              "    </tr>\n",
              "    <tr>\n",
              "      <th>75%</th>\n",
              "      <td>2.586900</td>\n",
              "      <td>-9.034300</td>\n",
              "      <td>1.371500</td>\n",
              "      <td>0.426720</td>\n",
              "      <td>-0.542210</td>\n",
              "      <td>0.345780</td>\n",
              "      <td>-1.021200</td>\n",
              "      <td>-2.45280</td>\n",
              "      <td>5.201200</td>\n",
              "      <td>0.049020</td>\n",
              "      <td>-0.080082</td>\n",
              "      <td>0.786640</td>\n",
              "      <td>2.000000</td>\n",
              "    </tr>\n",
              "    <tr>\n",
              "      <th>max</th>\n",
              "      <td>20.054000</td>\n",
              "      <td>21.161000</td>\n",
              "      <td>25.015000</td>\n",
              "      <td>60.484000</td>\n",
              "      <td>2.011300</td>\n",
              "      <td>2.770100</td>\n",
              "      <td>19.864000</td>\n",
              "      <td>22.19100</td>\n",
              "      <td>25.741000</td>\n",
              "      <td>3.319600</td>\n",
              "      <td>1.556500</td>\n",
              "      <td>2.750000</td>\n",
              "      <td>12.000000</td>\n",
              "    </tr>\n",
              "  </tbody>\n",
              "</table>\n",
              "</div>\n",
              "    <div class=\"colab-df-buttons\">\n",
              "\n",
              "  <div class=\"colab-df-container\">\n",
              "    <button class=\"colab-df-convert\" onclick=\"convertToInteractive('df-96deb0ea-38cf-42cc-916e-20ef94eb3f0a')\"\n",
              "            title=\"Convert this dataframe to an interactive table.\"\n",
              "            style=\"display:none;\">\n",
              "\n",
              "  <svg xmlns=\"http://www.w3.org/2000/svg\" height=\"24px\" viewBox=\"0 -960 960 960\">\n",
              "    <path d=\"M120-120v-720h720v720H120Zm60-500h600v-160H180v160Zm220 220h160v-160H400v160Zm0 220h160v-160H400v160ZM180-400h160v-160H180v160Zm440 0h160v-160H620v160ZM180-180h160v-160H180v160Zm440 0h160v-160H620v160Z\"/>\n",
              "  </svg>\n",
              "    </button>\n",
              "\n",
              "  <style>\n",
              "    .colab-df-container {\n",
              "      display:flex;\n",
              "      gap: 12px;\n",
              "    }\n",
              "\n",
              "    .colab-df-convert {\n",
              "      background-color: #E8F0FE;\n",
              "      border: none;\n",
              "      border-radius: 50%;\n",
              "      cursor: pointer;\n",
              "      display: none;\n",
              "      fill: #1967D2;\n",
              "      height: 32px;\n",
              "      padding: 0 0 0 0;\n",
              "      width: 32px;\n",
              "    }\n",
              "\n",
              "    .colab-df-convert:hover {\n",
              "      background-color: #E2EBFA;\n",
              "      box-shadow: 0px 1px 2px rgba(60, 64, 67, 0.3), 0px 1px 3px 1px rgba(60, 64, 67, 0.15);\n",
              "      fill: #174EA6;\n",
              "    }\n",
              "\n",
              "    .colab-df-buttons div {\n",
              "      margin-bottom: 4px;\n",
              "    }\n",
              "\n",
              "    [theme=dark] .colab-df-convert {\n",
              "      background-color: #3B4455;\n",
              "      fill: #D2E3FC;\n",
              "    }\n",
              "\n",
              "    [theme=dark] .colab-df-convert:hover {\n",
              "      background-color: #434B5C;\n",
              "      box-shadow: 0px 1px 3px 1px rgba(0, 0, 0, 0.15);\n",
              "      filter: drop-shadow(0px 1px 2px rgba(0, 0, 0, 0.3));\n",
              "      fill: #FFFFFF;\n",
              "    }\n",
              "  </style>\n",
              "\n",
              "    <script>\n",
              "      const buttonEl =\n",
              "        document.querySelector('#df-96deb0ea-38cf-42cc-916e-20ef94eb3f0a button.colab-df-convert');\n",
              "      buttonEl.style.display =\n",
              "        google.colab.kernel.accessAllowed ? 'block' : 'none';\n",
              "\n",
              "      async function convertToInteractive(key) {\n",
              "        const element = document.querySelector('#df-96deb0ea-38cf-42cc-916e-20ef94eb3f0a');\n",
              "        const dataTable =\n",
              "          await google.colab.kernel.invokeFunction('convertToInteractive',\n",
              "                                                    [key], {});\n",
              "        if (!dataTable) return;\n",
              "\n",
              "        const docLinkHtml = 'Like what you see? Visit the ' +\n",
              "          '<a target=\"_blank\" href=https://colab.research.google.com/notebooks/data_table.ipynb>data table notebook</a>'\n",
              "          + ' to learn more about interactive tables.';\n",
              "        element.innerHTML = '';\n",
              "        dataTable['output_type'] = 'display_data';\n",
              "        await google.colab.output.renderOutput(dataTable, element);\n",
              "        const docLink = document.createElement('div');\n",
              "        docLink.innerHTML = docLinkHtml;\n",
              "        element.appendChild(docLink);\n",
              "      }\n",
              "    </script>\n",
              "  </div>\n",
              "\n",
              "\n",
              "<div id=\"df-89eac571-3ae1-46b5-8a74-d71eac781d8f\">\n",
              "  <button class=\"colab-df-quickchart\" onclick=\"quickchart('df-89eac571-3ae1-46b5-8a74-d71eac781d8f')\"\n",
              "            title=\"Suggest charts\"\n",
              "            style=\"display:none;\">\n",
              "\n",
              "<svg xmlns=\"http://www.w3.org/2000/svg\" height=\"24px\"viewBox=\"0 0 24 24\"\n",
              "     width=\"24px\">\n",
              "    <g>\n",
              "        <path d=\"M19 3H5c-1.1 0-2 .9-2 2v14c0 1.1.9 2 2 2h14c1.1 0 2-.9 2-2V5c0-1.1-.9-2-2-2zM9 17H7v-7h2v7zm4 0h-2V7h2v10zm4 0h-2v-4h2v4z\"/>\n",
              "    </g>\n",
              "</svg>\n",
              "  </button>\n",
              "\n",
              "<style>\n",
              "  .colab-df-quickchart {\n",
              "      --bg-color: #E8F0FE;\n",
              "      --fill-color: #1967D2;\n",
              "      --hover-bg-color: #E2EBFA;\n",
              "      --hover-fill-color: #174EA6;\n",
              "      --disabled-fill-color: #AAA;\n",
              "      --disabled-bg-color: #DDD;\n",
              "  }\n",
              "\n",
              "  [theme=dark] .colab-df-quickchart {\n",
              "      --bg-color: #3B4455;\n",
              "      --fill-color: #D2E3FC;\n",
              "      --hover-bg-color: #434B5C;\n",
              "      --hover-fill-color: #FFFFFF;\n",
              "      --disabled-bg-color: #3B4455;\n",
              "      --disabled-fill-color: #666;\n",
              "  }\n",
              "\n",
              "  .colab-df-quickchart {\n",
              "    background-color: var(--bg-color);\n",
              "    border: none;\n",
              "    border-radius: 50%;\n",
              "    cursor: pointer;\n",
              "    display: none;\n",
              "    fill: var(--fill-color);\n",
              "    height: 32px;\n",
              "    padding: 0;\n",
              "    width: 32px;\n",
              "  }\n",
              "\n",
              "  .colab-df-quickchart:hover {\n",
              "    background-color: var(--hover-bg-color);\n",
              "    box-shadow: 0 1px 2px rgba(60, 64, 67, 0.3), 0 1px 3px 1px rgba(60, 64, 67, 0.15);\n",
              "    fill: var(--button-hover-fill-color);\n",
              "  }\n",
              "\n",
              "  .colab-df-quickchart-complete:disabled,\n",
              "  .colab-df-quickchart-complete:disabled:hover {\n",
              "    background-color: var(--disabled-bg-color);\n",
              "    fill: var(--disabled-fill-color);\n",
              "    box-shadow: none;\n",
              "  }\n",
              "\n",
              "  .colab-df-spinner {\n",
              "    border: 2px solid var(--fill-color);\n",
              "    border-color: transparent;\n",
              "    border-bottom-color: var(--fill-color);\n",
              "    animation:\n",
              "      spin 1s steps(1) infinite;\n",
              "  }\n",
              "\n",
              "  @keyframes spin {\n",
              "    0% {\n",
              "      border-color: transparent;\n",
              "      border-bottom-color: var(--fill-color);\n",
              "      border-left-color: var(--fill-color);\n",
              "    }\n",
              "    20% {\n",
              "      border-color: transparent;\n",
              "      border-left-color: var(--fill-color);\n",
              "      border-top-color: var(--fill-color);\n",
              "    }\n",
              "    30% {\n",
              "      border-color: transparent;\n",
              "      border-left-color: var(--fill-color);\n",
              "      border-top-color: var(--fill-color);\n",
              "      border-right-color: var(--fill-color);\n",
              "    }\n",
              "    40% {\n",
              "      border-color: transparent;\n",
              "      border-right-color: var(--fill-color);\n",
              "      border-top-color: var(--fill-color);\n",
              "    }\n",
              "    60% {\n",
              "      border-color: transparent;\n",
              "      border-right-color: var(--fill-color);\n",
              "    }\n",
              "    80% {\n",
              "      border-color: transparent;\n",
              "      border-right-color: var(--fill-color);\n",
              "      border-bottom-color: var(--fill-color);\n",
              "    }\n",
              "    90% {\n",
              "      border-color: transparent;\n",
              "      border-bottom-color: var(--fill-color);\n",
              "    }\n",
              "  }\n",
              "</style>\n",
              "\n",
              "  <script>\n",
              "    async function quickchart(key) {\n",
              "      const quickchartButtonEl =\n",
              "        document.querySelector('#' + key + ' button');\n",
              "      quickchartButtonEl.disabled = true;  // To prevent multiple clicks.\n",
              "      quickchartButtonEl.classList.add('colab-df-spinner');\n",
              "      try {\n",
              "        const charts = await google.colab.kernel.invokeFunction(\n",
              "            'suggestCharts', [key], {});\n",
              "      } catch (error) {\n",
              "        console.error('Error during call to suggestCharts:', error);\n",
              "      }\n",
              "      quickchartButtonEl.classList.remove('colab-df-spinner');\n",
              "      quickchartButtonEl.classList.add('colab-df-quickchart-complete');\n",
              "    }\n",
              "    (() => {\n",
              "      let quickchartButtonEl =\n",
              "        document.querySelector('#df-89eac571-3ae1-46b5-8a74-d71eac781d8f button');\n",
              "      quickchartButtonEl.style.display =\n",
              "        google.colab.kernel.accessAllowed ? 'block' : 'none';\n",
              "    })();\n",
              "  </script>\n",
              "</div>\n",
              "    </div>\n",
              "  </div>\n"
            ]
          },
          "metadata": {},
          "execution_count": 49
        }
      ]
    },
    {
      "cell_type": "code",
      "source": [
        "#Identifying the number of patients &  Counting the number of records associated with each patient\n",
        "print(df['subject'].value_counts())\n",
        "\n",
        "print(df[['Activity','subject',]].value_counts())\n"
      ],
      "metadata": {
        "colab": {
          "base_uri": "https://localhost:8080/"
        },
        "id": "Sfg2fg0ReNzm",
        "outputId": "8017a530-0e24-4577-f608-8a9d6c973c84"
      },
      "execution_count": null,
      "outputs": [
        {
          "output_type": "stream",
          "name": "stdout",
          "text": [
            "subject1    161280\n",
            "subject2    130561\n",
            "subject8    129024\n",
            "subject3    122112\n",
            "subject5    119808\n",
            "subject4    116736\n",
            "subject7    104448\n",
            "subject6     98304\n",
            "subject9     17726\n",
            "Name: subject, dtype: int64\n",
            "Activity  subject \n",
            "0         subject1    126106\n",
            "          subject8     95692\n",
            "          subject2     95029\n",
            "          subject3     86732\n",
            "          subject5     85861\n",
            "                       ...  \n",
            "12        subject5      1024\n",
            "          subject6      1024\n",
            "          subject7      1024\n",
            "          subject8      1024\n",
            "2         subject9       830\n",
            "Length: 107, dtype: int64\n"
          ]
        }
      ]
    },
    {
      "cell_type": "code",
      "source": [
        "#Determining missingness\n",
        "df.isnull().sum()\n",
        "#Results show no missingness in the columns"
      ],
      "metadata": {
        "colab": {
          "base_uri": "https://localhost:8080/"
        },
        "id": "2OV9cx4kgiEZ",
        "outputId": "a147b5ef-c844-402e-8d0b-e43910441519"
      },
      "execution_count": null,
      "outputs": [
        {
          "output_type": "execute_result",
          "data": {
            "text/plain": [
              "alx         0\n",
              "aly         0\n",
              "alz         0\n",
              "glx         0\n",
              "gly         0\n",
              "glz         0\n",
              "arx         0\n",
              "ary         0\n",
              "arz         0\n",
              "grx         0\n",
              "gry         0\n",
              "grz         0\n",
              "Activity    0\n",
              "subject     0\n",
              "dtype: int64"
            ]
          },
          "metadata": {},
          "execution_count": 51
        }
      ]
    },
    {
      "cell_type": "code",
      "source": [
        "#Correlation map of numerical features\n",
        "\n",
        "#numberical columns\n",
        "ncol_analysis = [\"alx\", \"aly\", \"alz\", \"glx\", \"gly\", \"glz\", \"arx\", \"ary\", \"arz\", \"grx\", \"gry\", \"grz\"]\n",
        "\n",
        "# Recalculate the correlation matrix without the '_id' columns\n",
        "correlation_matrix = df[ncol_analysis].corr()\n",
        "\n",
        "# Plot the updated correlation heatmap\n",
        "plt.figure(figsize=(12, 10))\n",
        "sns.heatmap(correlation_matrix, annot=True, fmt=\".2f\", cmap='magma')\n",
        "plt.title('Correlation Heatmap', fontsize=15)\n",
        "plt.show()\n"
      ],
      "metadata": {
        "colab": {
          "base_uri": "https://localhost:8080/",
          "height": 855
        },
        "id": "yUUZLvH2jsLW",
        "outputId": "859b8274-e976-4327-f430-a37bcc349157"
      },
      "execution_count": null,
      "outputs": [
        {
          "output_type": "display_data",
          "data": {
            "text/plain": [
              "<Figure size 1200x1000 with 2 Axes>"
            ],
            "image/png": "[encoded data removed]"
          },
          "metadata": {}
        }
      ]
    },
    {
      "cell_type": "code",
      "source": [
        "# Pairs of variables that maybe collinear (EL)\n",
        "# Initialize list to store pairs with the specified correlation range\n",
        "specified_corr_pairs = []\n",
        "\n",
        "# Iterate over the correlation matrix\n",
        "for i in range(len(correlation_matrix.columns)):\n",
        "    for j in range(i):\n",
        "        corr_value = correlation_matrix.iloc[i, j]\n",
        "        # Check if correlation is greater than 0.3 and less than 1\n",
        "        if 0.3 < abs(corr_value) < 1:\n",
        "            specified_corr_pairs.append((correlation_matrix.columns[i], correlation_matrix.columns[j], corr_value))\n",
        "\n",
        "# Print out the pairs with the specified range of correlation\n",
        "for pair in specified_corr_pairs:\n",
        "    print(f\"{pair[0]} and {pair[1]} have a correlation of {pair[2]:.2f}\")"
      ],
      "metadata": {
        "id": "i8SBPzwHGJEh",
        "colab": {
          "base_uri": "https://localhost:8080/"
        },
        "outputId": "2e6cd5a2-c529-4296-d679-5c5a46240d0f"
      },
      "execution_count": null,
      "outputs": [
        {
          "output_type": "stream",
          "name": "stdout",
          "text": [
            "gly and aly have a correlation of 0.36\n",
            "grx and glx have a correlation of 0.38\n",
            "grx and arx have a correlation of 0.39\n",
            "gry and glz have a correlation of 0.41\n",
            "gry and ary have a correlation of 0.60\n",
            "grz and glx have a correlation of 0.57\n",
            "grz and glz have a correlation of 0.31\n",
            "grz and arz have a correlation of 0.39\n"
          ]
        }
      ]
    },
    {
      "cell_type": "code",
      "source": [
        "#Visualizing the number distribution of activities within a patient\n",
        "\n",
        "# Get a color from the 'magma' colormap\n",
        "color = plt.get_cmap('magma')(0.2)  # 0.6 is arbitrarily chosen to get a distinct color from the colormap\n",
        "\n",
        "# Create a FacetGrid using the 'Subject' feature for faceting and map a histogram to it\n",
        "g = sns.FacetGrid(df, col='subject', col_wrap=4, height=4, aspect=1)\n",
        "g.map(sns.histplot, 'Activity', bins=12, kde=False, color=color)\n",
        "\n",
        "# Adding titles and labels for clarity\n",
        "g.set_titles('Subject: {col_name}')\n",
        "g.set_xlabels('Activity')\n",
        "g.set_ylabels('Count')\n",
        "\n",
        "# Display the FacetGrid\n",
        "plt.tight_layout()\n",
        "plt.show()\n"
      ],
      "metadata": {
        "colab": {
          "base_uri": "https://localhost:8080/",
          "height": 789
        },
        "id": "dojdm0tQkFTA",
        "outputId": "6ba67d0a-15d8-4b32-d903-35913e96a90b"
      },
      "execution_count": null,
      "outputs": [
        {
          "output_type": "display_data",
          "data": {
            "text/plain": [
              "<Figure size 1600x1200 with 9 Axes>"
            ],
            "image/png": "[encoded data removed]"
          },
          "metadata": {}
        }
      ]
    },
    {
      "cell_type": "code",
      "source": [
        "#  Alternative visualization - Activity (EL)\n",
        "import matplotlib.pyplot as plt\n",
        "import seaborn as sns\n",
        "\n",
        "# New color palette\n",
        "new_colors = [\"#eaac8b\", \"#e56b6f\", \"#b56576\", \"#6d597a\", \"#355070\"]  # A more varied color palette\n",
        "sns.set_palette(sns.color_palette(new_colors))\n",
        "\n",
        "# Race Distribution with updated color palette\n",
        "plt.figure(figsize=(5, 5))\n",
        "sns.countplot(x='Activity', data=df)\n",
        "plt.title('Activity Distribution AMONG SUBJECTS')\n",
        "plt.xlabel('ACTIVITY', fontweight='bold')\n",
        "plt.ylabel('COUNT', fontweight='bold')\n",
        "plt.xticks(rotation=45, fontweight='bold')\n",
        "plt.xticks(rotation=45)\n",
        "plt.tight_layout()\n",
        "updated_race_distribution_fig = plt.gcf()\n",
        "plt.show()"
      ],
      "metadata": {
        "id": "BJyVEJjoFrEu",
        "colab": {
          "base_uri": "https://localhost:8080/",
          "height": 507
        },
        "outputId": "462b832a-31d2-4f10-89d0-0989d1fa2d8a"
      },
      "execution_count": null,
      "outputs": [
        {
          "output_type": "display_data",
          "data": {
            "text/plain": [
              "<Figure size 500x500 with 1 Axes>"
            ],
            "image/png": "[encoded data removed]"
          },
          "metadata": {}
        }
      ]
    },
    {
      "cell_type": "code",
      "source": [
        "# Show count and % (EL)\n",
        "counts = df['Activity'].value_counts()\n",
        "\n",
        "# Calculate percentages\n",
        "percentages = (df['Activity'].value_counts(normalize=True) * 100).round(2)\n",
        "\n",
        "# Combine counts and percentages into a single DataFrame for a clearer view\n",
        "summary = pd.DataFrame({'Count': counts, 'Percentage': percentages})\n",
        "\n",
        "print(summary)"
      ],
      "metadata": {
        "id": "63HTi60tFy42",
        "colab": {
          "base_uri": "https://localhost:8080/"
        },
        "outputId": "3aca8561-c34c-497b-c38f-0e966c106e57"
      },
      "execution_count": null,
      "outputs": [
        {
          "output_type": "stream",
          "name": "stdout",
          "text": [
            "     Count  Percentage\n",
            "0   720946       72.09\n",
            "1    27648        2.76\n",
            "2    25406        2.54\n",
            "3    24576        2.46\n",
            "4    24576        2.46\n",
            "9    24576        2.46\n",
            "10   24576        2.46\n",
            "11   24576        2.46\n",
            "5    24576        2.46\n",
            "7    23809        2.38\n",
            "8    23501        2.35\n",
            "6    22990        2.30\n",
            "12    8243        0.82\n"
          ]
        }
      ]
    },
    {
      "cell_type": "code",
      "source": [
        "#  Alternative visualization - Activity (EL)\n",
        "\n",
        "# Setting the color palette to 'mako' which has maroon-like colors\n",
        "sns.color_palette(\"magma\", as_cmap=True)\n",
        "\n",
        "# New color palette\n",
        "new_colors = [\"#eaac8b\", \"#e56b6f\", \"#b56576\", \"#6d597a\", \"#355070\"]  # A more varied color palette\n",
        "sns.set_palette(sns.color_palette(new_colors))\n",
        "\n",
        "# Race Distribution with updated color palette\n",
        "plt.figure(figsize=(5, 5))\n",
        "sns.countplot(x='subject', data=df)\n",
        "plt.title('Counts of subject revisits')\n",
        "plt.xlabel('subject', fontweight='bold')\n",
        "plt.ylabel('COUNT', fontweight='bold')\n",
        "plt.xticks(rotation=45, fontweight='bold')\n",
        "plt.xticks(rotation=45)\n",
        "plt.tight_layout()\n",
        "updated_race_distribution_fig = plt.gcf()\n",
        "plt.show()"
      ],
      "metadata": {
        "id": "Zd576G68F3-4",
        "colab": {
          "base_uri": "https://localhost:8080/",
          "height": 507
        },
        "outputId": "4d4e0244-d4e1-4f7c-c456-ec0028287ba2"
      },
      "execution_count": null,
      "outputs": [
        {
          "output_type": "display_data",
          "data": {
            "text/plain": [
              "<Figure size 500x500 with 1 Axes>"
            ],
            "image/png": "[encoded data removed]"
          },
          "metadata": {}
        }
      ]
    },
    {
      "cell_type": "code",
      "source": [
        "# Show subject counts (EL)\n",
        "counts = df['subject'].value_counts()\n",
        "\n",
        "summary = pd.DataFrame({'Count': counts})\n",
        "\n",
        "print(summary)"
      ],
      "metadata": {
        "id": "kqiU8u2HGCqK",
        "colab": {
          "base_uri": "https://localhost:8080/"
        },
        "outputId": "15787893-5867-4c50-ef7a-860ef7acfbc3"
      },
      "execution_count": null,
      "outputs": [
        {
          "output_type": "stream",
          "name": "stdout",
          "text": [
            "           Count\n",
            "subject1  161280\n",
            "subject2  130561\n",
            "subject8  129024\n",
            "subject3  122112\n",
            "subject5  119808\n",
            "subject4  116736\n",
            "subject7  104448\n",
            "subject6   98304\n",
            "subject9   17726\n"
          ]
        }
      ]
    },
    {
      "cell_type": "markdown",
      "source": [
        "# 2. Encode target column 'Activity'"
      ],
      "metadata": {
        "id": "EKiCVvgJ9f_m"
      }
    },
    {
      "cell_type": "code",
      "source": [
        "#Creating a activity class variable\n",
        "\n",
        "\n",
        "#0 = Stationary ()\n",
        "#1 = Moderate (walking, climbing stairs, crunches)\n",
        "#2 = High-instensity (cycling, jogging, running, jumping)\n",
        "\n",
        "\n",
        "###Run this as our outcome\n",
        "\n",
        "map_activity_list = {0: 0,\n",
        "                     1: 1, 2: 1, 3: 1,\n",
        "                     4: 2, 5: 2, 6: 2, 7: 2, 8: 2,\n",
        "                     9: 3, 10: 3, 11: 3, 12: 3}\n",
        "df['Activity_Mapped'] = df['Activity'].map(map_activity_list)\n",
        "\n",
        "# Verifying the encoding\n",
        "activity_counts = df['Activity_Mapped'].value_counts()\n",
        "print(activity_counts)"
      ],
      "metadata": {
        "id": "AXaETbsh3z3a",
        "colab": {
          "base_uri": "https://localhost:8080/"
        },
        "outputId": "c2d2284a-4e1d-48e0-bf51-40eb1066d8a0"
      },
      "execution_count": null,
      "outputs": [
        {
          "output_type": "stream",
          "name": "stdout",
          "text": [
            "0    720946\n",
            "2    119452\n",
            "3     81971\n",
            "1     77630\n",
            "Name: Activity_Mapped, dtype: int64\n"
          ]
        }
      ]
    },
    {
      "cell_type": "code",
      "source": [
        "# Visualize new variable 'Activity_EL'\n",
        "import matplotlib.pyplot as plt\n",
        "import seaborn as sns\n",
        "\n",
        "# New color palette\n",
        "new_colors = [\"#eaac8b\", \"#e56b6f\", \"#b56576\", \"#6d597a\", \"#355070\"]  # A more varied color palette\n",
        "sns.set_palette(sns.color_palette(new_colors))\n",
        "\n",
        "# Race Distribution with updated color palette\n",
        "plt.figure(figsize=(5, 5))\n",
        "sns.countplot(x='Activity_Mapped', data=df)\n",
        "plt.title('Activity Distribution Among Subjects')\n",
        "plt.xlabel('ACTIVITY', fontweight='bold')\n",
        "plt.ylabel('COUNT', fontweight='bold')\n",
        "plt.xticks(rotation=45, fontweight='bold')\n",
        "plt.xticks(rotation=45)\n",
        "plt.tight_layout()\n",
        "updated_race_distribution_fig = plt.gcf()\n",
        "plt.show()"
      ],
      "metadata": {
        "id": "0i6WcW6sGeaj",
        "colab": {
          "base_uri": "https://localhost:8080/",
          "height": 507
        },
        "outputId": "684ff3a5-e80a-46c1-9702-3fd7513d19a6"
      },
      "execution_count": null,
      "outputs": [
        {
          "output_type": "display_data",
          "data": {
            "text/plain": [
              "<Figure size 500x500 with 1 Axes>"
            ],
            "image/png": "[encoded data removed]"
          },
          "metadata": {}
        }
      ]
    },
    {
      "cell_type": "markdown",
      "source": [
        "Note that, with respect to feature engineering, at this point we have observered:\n",
        "- No missingness\n",
        "- No outliers\n",
        "- No categorical variables that have yet to be encoded (Activity is already encoded)\n",
        "- All variables in the dataframe will be included in the analysis"
      ],
      "metadata": {
        "id": "E6wMkfHWnAj_"
      }
    },
    {
      "cell_type": "code",
      "source": [
        "# Checking the class distribution in the activity column of the training set\n",
        "\n",
        "print(\"Value counts of subjects\")\n",
        "print(train_df['subject'].value_counts())\n",
        "\n",
        "print(\"Value counts of Activity\")\n",
        "print(train_df['Activity_Mapped'].value_counts())\n",
        "\n",
        "#Class distribution\n",
        "class_distribution = train_df.groupby('subject').apply(lambda x : x.iloc[-1]['Activity_Mapped']).value_counts()\n",
        "class_distribution"
      ],
      "metadata": {
        "colab": {
          "base_uri": "https://localhost:8080/"
        },
        "id": "SlJFAfzlyP49",
        "outputId": "30f6f102-153f-4412-d8f7-a2cad40f1264"
      },
      "execution_count": null,
      "outputs": [
        {
          "output_type": "stream",
          "name": "stdout",
          "text": [
            "Value counts of subjects\n",
            "subject1    161280\n",
            "subject3    122112\n",
            "subject5    119808\n",
            "subject4    116736\n",
            "subject7    104448\n",
            "subject6     98304\n",
            "subject9     17726\n",
            "Name: subject, dtype: int64\n",
            "Value counts of Activity\n",
            "-0.575178    530225\n",
            " 1.439959     89500\n",
            " 2.447528     61491\n",
            " 0.432390     59198\n",
            "Name: Activity_Mapped, dtype: int64\n"
          ]
        },
        {
          "output_type": "execute_result",
          "data": {
            "text/plain": [
              "-0.575178    6\n",
              " 0.432390    1\n",
              "dtype: int64"
            ]
          },
          "metadata": {},
          "execution_count": 61
        }
      ]
    },
    {
      "cell_type": "markdown",
      "source": [
        "# 3. Check and address class imbalance"
      ],
      "metadata": {
        "id": "2IZ1sUOljRLl"
      }
    },
    {
      "cell_type": "code",
      "source": [
        "# Checking the class distribution in the 'subject' column of the training set\n",
        "class_distribution = train_df.groupby('subject').apply(lambda x :x['Activity_Mapped']).value_counts()\n",
        "class_distribution"
      ],
      "metadata": {
        "id": "-qQoz4DqjXML",
        "colab": {
          "base_uri": "https://localhost:8080/"
        },
        "outputId": "f02b21cc-0882-4d3c-d0dd-bcb0c7b18843"
      },
      "execution_count": null,
      "outputs": [
        {
          "output_type": "execute_result",
          "data": {
            "text/plain": [
              "-0.575178    530225\n",
              " 1.439959     89500\n",
              " 2.447528     61491\n",
              " 0.432390     59198\n",
              "Name: Activity_Mapped, dtype: int64"
            ]
          },
          "metadata": {},
          "execution_count": 62
        }
      ]
    },
    {
      "cell_type": "code",
      "source": [
        "# Ensure that subjects did not overlap between training and testing (EL)\n",
        "train_subjects = train_df['subject'].unique()\n",
        "test_subjects = test_df['subject'].unique()\n",
        "\n",
        "# Displaying the unique subjects in each set\n",
        "print(\"Training Set Subjects:\", train_subjects)\n",
        "print(\"Testing Set Subjects:\", test_subjects)\n",
        "\n",
        "# Displaying the shape of the datasets\n",
        "print(\"Training Set Shape:\", train_df_shape)\n",
        "print(\"Testing Set Shape:\", test_df_shape)"
      ],
      "metadata": {
        "id": "Nf0j1hLRjVWP",
        "colab": {
          "base_uri": "https://localhost:8080/"
        },
        "outputId": "37e33cab-f2e7-457d-dbd2-d6a1529d3440"
      },
      "execution_count": null,
      "outputs": [
        {
          "output_type": "stream",
          "name": "stdout",
          "text": [
            "Training Set Subjects: ['subject6' 'subject1' 'subject9' 'subject3' 'subject5' 'subject4'\n",
            " 'subject7']\n",
            "Testing Set Subjects: ['subject8' 'subject2']\n",
            "Training Set Shape: (740414, 15)\n",
            "Testing Set Shape: (259585, 15)\n"
          ]
        }
      ]
    },
    {
      "cell_type": "code",
      "source": [
        "len(train_df['subject'].unique())"
      ],
      "metadata": {
        "id": "nI8rnfbH9-S5",
        "colab": {
          "base_uri": "https://localhost:8080/"
        },
        "outputId": "75d46c08-2864-4c1a-921b-3dbb37c5cbdc"
      },
      "execution_count": null,
      "outputs": [
        {
          "output_type": "execute_result",
          "data": {
            "text/plain": [
              "7"
            ]
          },
          "metadata": {},
          "execution_count": 64
        }
      ]
    },
    {
      "cell_type": "code",
      "source": [
        "from sklearn.utils import resample\n",
        "\n",
        "# Grouping the original training data by 'subject'\n",
        "grouped_by_subject = train_df.groupby('subject')\n",
        "\n",
        "# Creating separate lists for each class\n",
        "groups_class_0 = [grouped_by_subject.get_group(subject)[grouped_by_subject.get_group(subject)['Activity_Mapped'] == 0] for subject in grouped_by_subject.groups ]\n",
        "groups_class_1 = [grouped_by_subject.get_group(subject)[grouped_by_subject.get_group(subject)['Activity_Mapped'] == 1] for subject in grouped_by_subject.groups ]\n",
        "groups_class_2 = [grouped_by_subject.get_group(subject)[grouped_by_subject.get_group(subject)['Activity_Mapped'] == 2] for subject in grouped_by_subject.groups ]\n",
        "groups_class_3 = [grouped_by_subject.get_group(subject)[grouped_by_subject.get_group(subject)['Activity_Mapped'] == 3] for subject in grouped_by_subject.groups ]"
      ],
      "metadata": {
        "id": "sEGsFT66-DTO"
      },
      "execution_count": null,
      "outputs": []
    },
    {
      "cell_type": "code",
      "source": [
        "# Importing tqdm for progress bar visualization in loops\n",
        "from tqdm import tqdm\n",
        "\n",
        "# Oversampling the minority groups (class 1,2,3)\n",
        "# Using resample to duplicate records in groups_class_1 to match the number of records in groups_class_0\n",
        "oversampled_groups_class_1 = resample(groups_class_1, replace=True, n_samples=len(groups_class_0), random_state=42)\n",
        "# Similarly, oversampling records in groups_class_2 to match the number in groups_class_0\n",
        "oversampled_groups_class_2 = resample(groups_class_2, replace=True, n_samples=len(groups_class_0), random_state=42)\n",
        "# Oversampling records in groups_class_3 to match the number in groups_class_0\n",
        "oversampled_groups_class_3 = resample(groups_class_3, replace=True, n_samples=len(groups_class_0), random_state=42)\n",
        "\n",
        "# Combining the oversampled minority class groups with the majority class group\n",
        "# This results in a balanced dataset with an equal number of records for each class\n",
        "balanced_groups = oversampled_groups_class_1 + oversampled_groups_class_2 + oversampled_groups_class_3 + groups_class_0"
      ],
      "metadata": {
        "id": "vjqd3wxX-JEc"
      },
      "execution_count": null,
      "outputs": []
    },
    {
      "cell_type": "code",
      "source": [
        "# Preparing to create a modified copy of the balanced dataset\n",
        "balanced_groups_copy = []\n",
        "i = 0\n",
        "# Looping over each group in the balanced dataset\n",
        "for i, group in tqdm(enumerate(balanced_groups)):\n",
        "    # Assigning a new, unique identifier to each record in the group\n",
        "    group.loc[:,'subject'] = i\n",
        "    # Incrementing the identifier for the next group\n",
        "    i += 1\n",
        "    # Appending a copy of the modified group to the balanced_groups_copy list\n",
        "    balanced_groups_copy.append(group.copy())\n",
        "\n",
        "balanced_groups_copy"
      ],
      "metadata": {
        "id": "bN2flqYP-UU6",
        "colab": {
          "base_uri": "https://localhost:8080/"
        },
        "outputId": "2ce1c0fa-f1aa-40b9-c244-2c41bb03d746"
      },
      "execution_count": null,
      "outputs": [
        {
          "output_type": "stream",
          "name": "stderr",
          "text": [
            "28it [00:00, 2174.95it/s]\n"
          ]
        },
        {
          "output_type": "execute_result",
          "data": {
            "text/plain": [
              "[Empty DataFrame\n",
              " Columns: [alx, aly, alz, glx, gly, glz, arx, ary, arz, grx, gry, grz, Activity, subject, Activity_Mapped]\n",
              " Index: [],\n",
              " Empty DataFrame\n",
              " Columns: [alx, aly, alz, glx, gly, glz, arx, ary, arz, grx, gry, grz, Activity, subject, Activity_Mapped]\n",
              " Index: [],\n",
              " Empty DataFrame\n",
              " Columns: [alx, aly, alz, glx, gly, glz, arx, ary, arz, grx, gry, grz, Activity, subject, Activity_Mapped]\n",
              " Index: [],\n",
              " Empty DataFrame\n",
              " Columns: [alx, aly, alz, glx, gly, glz, arx, ary, arz, grx, gry, grz, Activity, subject, Activity_Mapped]\n",
              " Index: [],\n",
              " Empty DataFrame\n",
              " Columns: [alx, aly, alz, glx, gly, glz, arx, ary, arz, grx, gry, grz, Activity, subject, Activity_Mapped]\n",
              " Index: [],\n",
              " Empty DataFrame\n",
              " Columns: [alx, aly, alz, glx, gly, glz, arx, ary, arz, grx, gry, grz, Activity, subject, Activity_Mapped]\n",
              " Index: [],\n",
              " Empty DataFrame\n",
              " Columns: [alx, aly, alz, glx, gly, glz, arx, ary, arz, grx, gry, grz, Activity, subject, Activity_Mapped]\n",
              " Index: [],\n",
              " Empty DataFrame\n",
              " Columns: [alx, aly, alz, glx, gly, glz, arx, ary, arz, grx, gry, grz, Activity, subject, Activity_Mapped]\n",
              " Index: [],\n",
              " Empty DataFrame\n",
              " Columns: [alx, aly, alz, glx, gly, glz, arx, ary, arz, grx, gry, grz, Activity, subject, Activity_Mapped]\n",
              " Index: [],\n",
              " Empty DataFrame\n",
              " Columns: [alx, aly, alz, glx, gly, glz, arx, ary, arz, grx, gry, grz, Activity, subject, Activity_Mapped]\n",
              " Index: [],\n",
              " Empty DataFrame\n",
              " Columns: [alx, aly, alz, glx, gly, glz, arx, ary, arz, grx, gry, grz, Activity, subject, Activity_Mapped]\n",
              " Index: [],\n",
              " Empty DataFrame\n",
              " Columns: [alx, aly, alz, glx, gly, glz, arx, ary, arz, grx, gry, grz, Activity, subject, Activity_Mapped]\n",
              " Index: [],\n",
              " Empty DataFrame\n",
              " Columns: [alx, aly, alz, glx, gly, glz, arx, ary, arz, grx, gry, grz, Activity, subject, Activity_Mapped]\n",
              " Index: [],\n",
              " Empty DataFrame\n",
              " Columns: [alx, aly, alz, glx, gly, glz, arx, ary, arz, grx, gry, grz, Activity, subject, Activity_Mapped]\n",
              " Index: [],\n",
              " Empty DataFrame\n",
              " Columns: [alx, aly, alz, glx, gly, glz, arx, ary, arz, grx, gry, grz, Activity, subject, Activity_Mapped]\n",
              " Index: [],\n",
              " Empty DataFrame\n",
              " Columns: [alx, aly, alz, glx, gly, glz, arx, ary, arz, grx, gry, grz, Activity, subject, Activity_Mapped]\n",
              " Index: [],\n",
              " Empty DataFrame\n",
              " Columns: [alx, aly, alz, glx, gly, glz, arx, ary, arz, grx, gry, grz, Activity, subject, Activity_Mapped]\n",
              " Index: [],\n",
              " Empty DataFrame\n",
              " Columns: [alx, aly, alz, glx, gly, glz, arx, ary, arz, grx, gry, grz, Activity, subject, Activity_Mapped]\n",
              " Index: [],\n",
              " Empty DataFrame\n",
              " Columns: [alx, aly, alz, glx, gly, glz, arx, ary, arz, grx, gry, grz, Activity, subject, Activity_Mapped]\n",
              " Index: [],\n",
              " Empty DataFrame\n",
              " Columns: [alx, aly, alz, glx, gly, glz, arx, ary, arz, grx, gry, grz, Activity, subject, Activity_Mapped]\n",
              " Index: [],\n",
              " Empty DataFrame\n",
              " Columns: [alx, aly, alz, glx, gly, glz, arx, ary, arz, grx, gry, grz, Activity, subject, Activity_Mapped]\n",
              " Index: [],\n",
              " Empty DataFrame\n",
              " Columns: [alx, aly, alz, glx, gly, glz, arx, ary, arz, grx, gry, grz, Activity, subject, Activity_Mapped]\n",
              " Index: [],\n",
              " Empty DataFrame\n",
              " Columns: [alx, aly, alz, glx, gly, glz, arx, ary, arz, grx, gry, grz, Activity, subject, Activity_Mapped]\n",
              " Index: [],\n",
              " Empty DataFrame\n",
              " Columns: [alx, aly, alz, glx, gly, glz, arx, ary, arz, grx, gry, grz, Activity, subject, Activity_Mapped]\n",
              " Index: [],\n",
              " Empty DataFrame\n",
              " Columns: [alx, aly, alz, glx, gly, glz, arx, ary, arz, grx, gry, grz, Activity, subject, Activity_Mapped]\n",
              " Index: [],\n",
              " Empty DataFrame\n",
              " Columns: [alx, aly, alz, glx, gly, glz, arx, ary, arz, grx, gry, grz, Activity, subject, Activity_Mapped]\n",
              " Index: [],\n",
              " Empty DataFrame\n",
              " Columns: [alx, aly, alz, glx, gly, glz, arx, ary, arz, grx, gry, grz, Activity, subject, Activity_Mapped]\n",
              " Index: [],\n",
              " Empty DataFrame\n",
              " Columns: [alx, aly, alz, glx, gly, glz, arx, ary, arz, grx, gry, grz, Activity, subject, Activity_Mapped]\n",
              " Index: []]"
            ]
          },
          "metadata": {},
          "execution_count": 67
        }
      ]
    },
    {
      "cell_type": "code",
      "source": [
        "print(len(balanced_groups))"
      ],
      "metadata": {
        "id": "62xB2Ouk-XK6",
        "colab": {
          "base_uri": "https://localhost:8080/"
        },
        "outputId": "84fa0b1a-8a21-4f48-ba1d-cfcee7393911"
      },
      "execution_count": null,
      "outputs": [
        {
          "output_type": "stream",
          "name": "stdout",
          "text": [
            "28\n"
          ]
        }
      ]
    },
    {
      "cell_type": "code",
      "source": [
        "print(len(groups_class_3))"
      ],
      "metadata": {
        "id": "IpePUtxD-Yds",
        "colab": {
          "base_uri": "https://localhost:8080/"
        },
        "outputId": "45e7dee3-ac20-4c03-b6a7-90d920f9f5b5"
      },
      "execution_count": null,
      "outputs": [
        {
          "output_type": "stream",
          "name": "stdout",
          "text": [
            "7\n"
          ]
        }
      ]
    },
    {
      "cell_type": "markdown",
      "source": [
        "# 4. Recurrent Neural Network (RNN): KK"
      ],
      "metadata": {
        "id": "0KmXZwu4_S5V"
      }
    },
    {
      "cell_type": "markdown",
      "source": [
        "### Splitting into test and training (80:20)"
      ],
      "metadata": {
        "id": "S_weaAerbzGy"
      }
    },
    {
      "cell_type": "code",
      "source": [
        "# Grouping by 'patient_nbr' and creating a list of dataframes, one per group\n",
        "grouped = df.groupby('subject')\n",
        "grouped_dfs = [group for _, group in grouped]\n",
        "\n",
        "# Splitting the groups into training and test sets with an 80:20 ratio\n",
        "train_groups, test_groups = train_test_split(grouped_dfs, test_size=0.2, random_state=42) #Shuffle = False prevents reshuffling during split\n",
        "\n",
        "# Reassembling the training and test datasets from the groups\n",
        "train_df_rnn = pd.concat(train_groups)\n",
        "test_df_rnn = pd.concat(test_groups)\n",
        "\n",
        "# Displaying the shape of the training and test sets\n",
        "train_df_rnn_shape = train_df.shape\n",
        "test_df_rnn_shape = test_df_rnn.shape\n",
        "\n",
        "train_df_rnn_shape, test_df_rnn_shape\n",
        "\n",
        "#Checking how many times each subject this appears\n",
        "print('Training Data:')\n",
        "print(train_df_rnn['subject'].value_counts()) #counting the number of records per patient\n",
        "print('Testing Data:')\n",
        "print(test_df_rnn['subject'].value_counts()) #counting the number of records per patient"
      ],
      "metadata": {
        "id": "Z6EDItqecGgU",
        "colab": {
          "base_uri": "https://localhost:8080/"
        },
        "outputId": "05803c1f-0492-4f31-d9c8-579cc9c8c8cd"
      },
      "execution_count": null,
      "outputs": [
        {
          "output_type": "stream",
          "name": "stdout",
          "text": [
            "Training Data:\n",
            "subject1    161280\n",
            "subject3    122112\n",
            "subject5    119808\n",
            "subject4    116736\n",
            "subject7    104448\n",
            "subject6     98304\n",
            "subject9     17726\n",
            "Name: subject, dtype: int64\n",
            "Testing Data:\n",
            "subject2    130561\n",
            "subject8    129024\n",
            "Name: subject, dtype: int64\n"
          ]
        }
      ]
    },
    {
      "cell_type": "markdown",
      "source": [
        "### Normalizing the data"
      ],
      "metadata": {
        "id": "W3RjKns4cjzH"
      }
    },
    {
      "cell_type": "code",
      "source": [
        "# Identifying numerical columns (excluding 'patient_nbr' and 'readmitted')\n",
        "numerical_columns = train_df_rnn.select_dtypes(include=['int64', 'float64']).columns.tolist()\n",
        "columns_to_remove = ['Activity', 'Activity_Mapped'] #Activity_Mapped will be our label\n",
        "\n",
        "# Remove specified columns from numerical_columns\n",
        "numerical_columns = [col for col in numerical_columns if col not in columns_to_remove]\n",
        "\n",
        "# Initializing the StandardScaler\n",
        "scaler = StandardScaler()\n",
        "\n",
        "# Fitting the scaler to the training data and transforming both training and test data\n",
        "train_df_rnn[numerical_columns] = scaler.fit_transform(train_df_rnn[numerical_columns])\n",
        "test_df_rnn[numerical_columns] = scaler.transform(test_df_rnn[numerical_columns])\n",
        "\n",
        "# Checking the first few rows of the normalized training data\n",
        "train_df_rnn.head()"
      ],
      "metadata": {
        "id": "myKXNGFactqq",
        "colab": {
          "base_uri": "https://localhost:8080/",
          "height": 226
        },
        "outputId": "7d5649f8-c645-4dc0-f14f-ba1e066ccf6c"
      },
      "execution_count": null,
      "outputs": [
        {
          "output_type": "execute_result",
          "data": {
            "text/plain": [
              "             alx       aly       alz       glx       gly       glz       arx  \\\n",
              "650497 -0.552567  0.055747 -0.810059  0.578981 -0.800349  0.501238 -1.814050   \n",
              "650498 -1.531305  0.104970 -0.369903  0.693642 -0.720535  0.533071 -1.213665   \n",
              "650499 -1.634742  0.162005 -0.446628  0.693642 -0.720535  0.533071 -0.665509   \n",
              "650500 -1.058302  0.102992 -0.337213  0.693642 -0.720535  0.533071 -0.339275   \n",
              "650501 -1.119704  0.167596 -0.387926  0.601930 -0.704601  0.653347 -0.163938   \n",
              "\n",
              "             ary       arz       grx       gry       grz  Activity   subject  \\\n",
              "650497  0.678081 -0.577362 -0.556227  2.101663  0.012934         0  subject6   \n",
              "650498  0.758524 -0.989728 -0.556227  2.101663  0.012934         0  subject6   \n",
              "650499  0.721946 -1.405218 -0.770194  1.968628 -0.202877         0  subject6   \n",
              "650500  0.722070 -1.640731 -0.770194  1.968628 -0.202877         0  subject6   \n",
              "650501  0.695687 -1.610853 -0.770194  1.968628 -0.202877         0  subject6   \n",
              "\n",
              "        Activity_Mapped  \n",
              "650497                0  \n",
              "650498                0  \n",
              "650499                0  \n",
              "650500                0  \n",
              "650501                0  "
            ],
            "text/html": [
              "\n",
              "  <div id=\"df-f663a20c-d6da-4a10-8b2c-d4a0ef8c554b\" class=\"colab-df-container\">\n",
              "    <div>\n",
              "<style scoped>\n",
              "    .dataframe tbody tr th:only-of-type {\n",
              "        vertical-align: middle;\n",
              "    }\n",
              "\n",
              "    .dataframe tbody tr th {\n",
              "        vertical-align: top;\n",
              "    }\n",
              "\n",
              "    .dataframe thead th {\n",
              "        text-align: right;\n",
              "    }\n",
              "</style>\n",
              "<table border=\"1\" class=\"dataframe\">\n",
              "  <thead>\n",
              "    <tr style=\"text-align: right;\">\n",
              "      <th></th>\n",
              "      <th>alx</th>\n",
              "      <th>aly</th>\n",
              "      <th>alz</th>\n",
              "      <th>glx</th>\n",
              "      <th>gly</th>\n",
              "      <th>glz</th>\n",
              "      <th>arx</th>\n",
              "      <th>ary</th>\n",
              "      <th>arz</th>\n",
              "      <th>grx</th>\n",
              "      <th>gry</th>\n",
              "      <th>grz</th>\n",
              "      <th>Activity</th>\n",
              "      <th>subject</th>\n",
              "      <th>Activity_Mapped</th>\n",
              "    </tr>\n",
              "  </thead>\n",
              "  <tbody>\n",
              "    <tr>\n",
              "      <th>650497</th>\n",
              "      <td>-0.552567</td>\n",
              "      <td>0.055747</td>\n",
              "      <td>-0.810059</td>\n",
              "      <td>0.578981</td>\n",
              "      <td>-0.800349</td>\n",
              "      <td>0.501238</td>\n",
              "      <td>-1.814050</td>\n",
              "      <td>0.678081</td>\n",
              "      <td>-0.577362</td>\n",
              "      <td>-0.556227</td>\n",
              "      <td>2.101663</td>\n",
              "      <td>0.012934</td>\n",
              "      <td>0</td>\n",
              "      <td>subject6</td>\n",
              "      <td>0</td>\n",
              "    </tr>\n",
              "    <tr>\n",
              "      <th>650498</th>\n",
              "      <td>-1.531305</td>\n",
              "      <td>0.104970</td>\n",
              "      <td>-0.369903</td>\n",
              "      <td>0.693642</td>\n",
              "      <td>-0.720535</td>\n",
              "      <td>0.533071</td>\n",
              "      <td>-1.213665</td>\n",
              "      <td>0.758524</td>\n",
              "      <td>-0.989728</td>\n",
              "      <td>-0.556227</td>\n",
              "      <td>2.101663</td>\n",
              "      <td>0.012934</td>\n",
              "      <td>0</td>\n",
              "      <td>subject6</td>\n",
              "      <td>0</td>\n",
              "    </tr>\n",
              "    <tr>\n",
              "      <th>650499</th>\n",
              "      <td>-1.634742</td>\n",
              "      <td>0.162005</td>\n",
              "      <td>-0.446628</td>\n",
              "      <td>0.693642</td>\n",
              "      <td>-0.720535</td>\n",
              "      <td>0.533071</td>\n",
              "      <td>-0.665509</td>\n",
              "      <td>0.721946</td>\n",
              "      <td>-1.405218</td>\n",
              "      <td>-0.770194</td>\n",
              "      <td>1.968628</td>\n",
              "      <td>-0.202877</td>\n",
              "      <td>0</td>\n",
              "      <td>subject6</td>\n",
              "      <td>0</td>\n",
              "    </tr>\n",
              "    <tr>\n",
              "      <th>650500</th>\n",
              "      <td>-1.058302</td>\n",
              "      <td>0.102992</td>\n",
              "      <td>-0.337213</td>\n",
              "      <td>0.693642</td>\n",
              "      <td>-0.720535</td>\n",
              "      <td>0.533071</td>\n",
              "      <td>-0.339275</td>\n",
              "      <td>0.722070</td>\n",
              "      <td>-1.640731</td>\n",
              "      <td>-0.770194</td>\n",
              "      <td>1.968628</td>\n",
              "      <td>-0.202877</td>\n",
              "      <td>0</td>\n",
              "      <td>subject6</td>\n",
              "      <td>0</td>\n",
              "    </tr>\n",
              "    <tr>\n",
              "      <th>650501</th>\n",
              "      <td>-1.119704</td>\n",
              "      <td>0.167596</td>\n",
              "      <td>-0.387926</td>\n",
              "      <td>0.601930</td>\n",
              "      <td>-0.704601</td>\n",
              "      <td>0.653347</td>\n",
              "      <td>-0.163938</td>\n",
              "      <td>0.695687</td>\n",
              "      <td>-1.610853</td>\n",
              "      <td>-0.770194</td>\n",
              "      <td>1.968628</td>\n",
              "      <td>-0.202877</td>\n",
              "      <td>0</td>\n",
              "      <td>subject6</td>\n",
              "      <td>0</td>\n",
              "    </tr>\n",
              "  </tbody>\n",
              "</table>\n",
              "</div>\n",
              "    <div class=\"colab-df-buttons\">\n",
              "\n",
              "  <div class=\"colab-df-container\">\n",
              "    <button class=\"colab-df-convert\" onclick=\"convertToInteractive('df-f663a20c-d6da-4a10-8b2c-d4a0ef8c554b')\"\n",
              "            title=\"Convert this dataframe to an interactive table.\"\n",
              "            style=\"display:none;\">\n",
              "\n",
              "  <svg xmlns=\"http://www.w3.org/2000/svg\" height=\"24px\" viewBox=\"0 -960 960 960\">\n",
              "    <path d=\"M120-120v-720h720v720H120Zm60-500h600v-160H180v160Zm220 220h160v-160H400v160Zm0 220h160v-160H400v160ZM180-400h160v-160H180v160Zm440 0h160v-160H620v160ZM180-180h160v-160H180v160Zm440 0h160v-160H620v160Z\"/>\n",
              "  </svg>\n",
              "    </button>\n",
              "\n",
              "  <style>\n",
              "    .colab-df-container {\n",
              "      display:flex;\n",
              "      gap: 12px;\n",
              "    }\n",
              "\n",
              "    .colab-df-convert {\n",
              "      background-color: #E8F0FE;\n",
              "      border: none;\n",
              "      border-radius: 50%;\n",
              "      cursor: pointer;\n",
              "      display: none;\n",
              "      fill: #1967D2;\n",
              "      height: 32px;\n",
              "      padding: 0 0 0 0;\n",
              "      width: 32px;\n",
              "    }\n",
              "\n",
              "    .colab-df-convert:hover {\n",
              "      background-color: #E2EBFA;\n",
              "      box-shadow: 0px 1px 2px rgba(60, 64, 67, 0.3), 0px 1px 3px 1px rgba(60, 64, 67, 0.15);\n",
              "      fill: #174EA6;\n",
              "    }\n",
              "\n",
              "    .colab-df-buttons div {\n",
              "      margin-bottom: 4px;\n",
              "    }\n",
              "\n",
              "    [theme=dark] .colab-df-convert {\n",
              "      background-color: #3B4455;\n",
              "      fill: #D2E3FC;\n",
              "    }\n",
              "\n",
              "    [theme=dark] .colab-df-convert:hover {\n",
              "      background-color: #434B5C;\n",
              "      box-shadow: 0px 1px 3px 1px rgba(0, 0, 0, 0.15);\n",
              "      filter: drop-shadow(0px 1px 2px rgba(0, 0, 0, 0.3));\n",
              "      fill: #FFFFFF;\n",
              "    }\n",
              "  </style>\n",
              "\n",
              "    <script>\n",
              "      const buttonEl =\n",
              "        document.querySelector('#df-f663a20c-d6da-4a10-8b2c-d4a0ef8c554b button.colab-df-convert');\n",
              "      buttonEl.style.display =\n",
              "        google.colab.kernel.accessAllowed ? 'block' : 'none';\n",
              "\n",
              "      async function convertToInteractive(key) {\n",
              "        const element = document.querySelector('#df-f663a20c-d6da-4a10-8b2c-d4a0ef8c554b');\n",
              "        const dataTable =\n",
              "          await google.colab.kernel.invokeFunction('convertToInteractive',\n",
              "                                                    [key], {});\n",
              "        if (!dataTable) return;\n",
              "\n",
              "        const docLinkHtml = 'Like what you see? Visit the ' +\n",
              "          '<a target=\"_blank\" href=https://colab.research.google.com/notebooks/data_table.ipynb>data table notebook</a>'\n",
              "          + ' to learn more about interactive tables.';\n",
              "        element.innerHTML = '';\n",
              "        dataTable['output_type'] = 'display_data';\n",
              "        await google.colab.output.renderOutput(dataTable, element);\n",
              "        const docLink = document.createElement('div');\n",
              "        docLink.innerHTML = docLinkHtml;\n",
              "        element.appendChild(docLink);\n",
              "      }\n",
              "    </script>\n",
              "  </div>\n",
              "\n",
              "\n",
              "<div id=\"df-fcabf773-9ae5-45f2-a574-164b480815a8\">\n",
              "  <button class=\"colab-df-quickchart\" onclick=\"quickchart('df-fcabf773-9ae5-45f2-a574-164b480815a8')\"\n",
              "            title=\"Suggest charts\"\n",
              "            style=\"display:none;\">\n",
              "\n",
              "<svg xmlns=\"http://www.w3.org/2000/svg\" height=\"24px\"viewBox=\"0 0 24 24\"\n",
              "     width=\"24px\">\n",
              "    <g>\n",
              "        <path d=\"M19 3H5c-1.1 0-2 .9-2 2v14c0 1.1.9 2 2 2h14c1.1 0 2-.9 2-2V5c0-1.1-.9-2-2-2zM9 17H7v-7h2v7zm4 0h-2V7h2v10zm4 0h-2v-4h2v4z\"/>\n",
              "    </g>\n",
              "</svg>\n",
              "  </button>\n",
              "\n",
              "<style>\n",
              "  .colab-df-quickchart {\n",
              "      --bg-color: #E8F0FE;\n",
              "      --fill-color: #1967D2;\n",
              "      --hover-bg-color: #E2EBFA;\n",
              "      --hover-fill-color: #174EA6;\n",
              "      --disabled-fill-color: #AAA;\n",
              "      --disabled-bg-color: #DDD;\n",
              "  }\n",
              "\n",
              "  [theme=dark] .colab-df-quickchart {\n",
              "      --bg-color: #3B4455;\n",
              "      --fill-color: #D2E3FC;\n",
              "      --hover-bg-color: #434B5C;\n",
              "      --hover-fill-color: #FFFFFF;\n",
              "      --disabled-bg-color: #3B4455;\n",
              "      --disabled-fill-color: #666;\n",
              "  }\n",
              "\n",
              "  .colab-df-quickchart {\n",
              "    background-color: var(--bg-color);\n",
              "    border: none;\n",
              "    border-radius: 50%;\n",
              "    cursor: pointer;\n",
              "    display: none;\n",
              "    fill: var(--fill-color);\n",
              "    height: 32px;\n",
              "    padding: 0;\n",
              "    width: 32px;\n",
              "  }\n",
              "\n",
              "  .colab-df-quickchart:hover {\n",
              "    background-color: var(--hover-bg-color);\n",
              "    box-shadow: 0 1px 2px rgba(60, 64, 67, 0.3), 0 1px 3px 1px rgba(60, 64, 67, 0.15);\n",
              "    fill: var(--button-hover-fill-color);\n",
              "  }\n",
              "\n",
              "  .colab-df-quickchart-complete:disabled,\n",
              "  .colab-df-quickchart-complete:disabled:hover {\n",
              "    background-color: var(--disabled-bg-color);\n",
              "    fill: var(--disabled-fill-color);\n",
              "    box-shadow: none;\n",
              "  }\n",
              "\n",
              "  .colab-df-spinner {\n",
              "    border: 2px solid var(--fill-color);\n",
              "    border-color: transparent;\n",
              "    border-bottom-color: var(--fill-color);\n",
              "    animation:\n",
              "      spin 1s steps(1) infinite;\n",
              "  }\n",
              "\n",
              "  @keyframes spin {\n",
              "    0% {\n",
              "      border-color: transparent;\n",
              "      border-bottom-color: var(--fill-color);\n",
              "      border-left-color: var(--fill-color);\n",
              "    }\n",
              "    20% {\n",
              "      border-color: transparent;\n",
              "      border-left-color: var(--fill-color);\n",
              "      border-top-color: var(--fill-color);\n",
              "    }\n",
              "    30% {\n",
              "      border-color: transparent;\n",
              "      border-left-color: var(--fill-color);\n",
              "      border-top-color: var(--fill-color);\n",
              "      border-right-color: var(--fill-color);\n",
              "    }\n",
              "    40% {\n",
              "      border-color: transparent;\n",
              "      border-right-color: var(--fill-color);\n",
              "      border-top-color: var(--fill-color);\n",
              "    }\n",
              "    60% {\n",
              "      border-color: transparent;\n",
              "      border-right-color: var(--fill-color);\n",
              "    }\n",
              "    80% {\n",
              "      border-color: transparent;\n",
              "      border-right-color: var(--fill-color);\n",
              "      border-bottom-color: var(--fill-color);\n",
              "    }\n",
              "    90% {\n",
              "      border-color: transparent;\n",
              "      border-bottom-color: var(--fill-color);\n",
              "    }\n",
              "  }\n",
              "</style>\n",
              "\n",
              "  <script>\n",
              "    async function quickchart(key) {\n",
              "      const quickchartButtonEl =\n",
              "        document.querySelector('#' + key + ' button');\n",
              "      quickchartButtonEl.disabled = true;  // To prevent multiple clicks.\n",
              "      quickchartButtonEl.classList.add('colab-df-spinner');\n",
              "      try {\n",
              "        const charts = await google.colab.kernel.invokeFunction(\n",
              "            'suggestCharts', [key], {});\n",
              "      } catch (error) {\n",
              "        console.error('Error during call to suggestCharts:', error);\n",
              "      }\n",
              "      quickchartButtonEl.classList.remove('colab-df-spinner');\n",
              "      quickchartButtonEl.classList.add('colab-df-quickchart-complete');\n",
              "    }\n",
              "    (() => {\n",
              "      let quickchartButtonEl =\n",
              "        document.querySelector('#df-fcabf773-9ae5-45f2-a574-164b480815a8 button');\n",
              "      quickchartButtonEl.style.display =\n",
              "        google.colab.kernel.accessAllowed ? 'block' : 'none';\n",
              "    })();\n",
              "  </script>\n",
              "</div>\n",
              "    </div>\n",
              "  </div>\n"
            ]
          },
          "metadata": {},
          "execution_count": 84
        }
      ]
    },
    {
      "cell_type": "markdown",
      "source": [
        "### Sequence generation"
      ],
      "metadata": {
        "id": "glbnwNM0dAfE"
      }
    },
    {
      "cell_type": "code",
      "source": [
        "def create_sequences(data, sequence_length=100):\n",
        "    sequences = []\n",
        "    output = []\n",
        "    for i in range(0, len(data) - sequence_length + 1, sequence_length):\n",
        "        sequence = data[i:i + sequence_length]\n",
        "        # Assuming 'Activity2' is the target variable and is the same for the entire sequence\n",
        "        label = sequence['Activity_Mapped'].iloc[0]\n",
        "        sequences.append(sequence[numerical_columns].values)\n",
        "        output.append(label)\n",
        "\n",
        "    return np.array(sequences), np.array(output)\n",
        "\n",
        "# Creating sequences for training and test data\n",
        "X_train_rnn, y_train_rnn = create_sequences(train_df_rnn, sequence_length=100)\n",
        "X_test_rnn, y_test_rnn = create_sequences(test_df_rnn, sequence_length=100)\n",
        "\n",
        "\n",
        "X_train_rnn.shape, y_train_rnn.shape, X_test_rnn.shape, y_test_rnn.shape"
      ],
      "metadata": {
        "id": "i82-HEpNdD5C",
        "colab": {
          "base_uri": "https://localhost:8080/"
        },
        "outputId": "9f227b5f-a2f2-4b4b-befe-a238be16b241"
      },
      "execution_count": null,
      "outputs": [
        {
          "output_type": "execute_result",
          "data": {
            "text/plain": [
              "((7404, 100, 12), (7404,), (2595, 100, 12), (2595,))"
            ]
          },
          "metadata": {},
          "execution_count": 85
        }
      ]
    },
    {
      "cell_type": "markdown",
      "source": [
        "### Checking and addressing class imbalance"
      ],
      "metadata": {
        "id": "p_eRBQoMdV0w"
      }
    },
    {
      "cell_type": "code",
      "source": [
        "from collections import Counter\n",
        "\n",
        "# Checking the class distribution in the activity column of the training set\n",
        "print(\"Value counts of subjects\")\n",
        "print(train_df_rnn['subject'].value_counts())\n",
        "\n",
        "print(\"Value counts of Activity2\")\n",
        "print(train_df_rnn['Activity_Mapped'].value_counts())\n",
        "\n",
        "#Class distribution\n",
        "class_distribution = Counter(y_train_rnn)\n",
        "print(class_distribution)"
      ],
      "metadata": {
        "id": "YB9P6zZ5dcII",
        "colab": {
          "base_uri": "https://localhost:8080/"
        },
        "outputId": "3697c2d1-1d60-43c4-e0b4-7b98a30d6504"
      },
      "execution_count": null,
      "outputs": [
        {
          "output_type": "stream",
          "name": "stdout",
          "text": [
            "Value counts of subjects\n",
            "subject1    161280\n",
            "subject3    122112\n",
            "subject5    119808\n",
            "subject4    116736\n",
            "subject7    104448\n",
            "subject6     98304\n",
            "subject9     17726\n",
            "Name: subject, dtype: int64\n",
            "Value counts of Activity2\n",
            "0    530225\n",
            "2     89500\n",
            "3     61491\n",
            "1     59198\n",
            "Name: Activity_Mapped, dtype: int64\n",
            "Counter({0: 5301, 2: 899, 3: 614, 1: 590})\n"
          ]
        }
      ]
    },
    {
      "cell_type": "markdown",
      "source": [
        "### Oversampling non-zero activity classes (i.e., minority classes)"
      ],
      "metadata": {
        "id": "gyev59XPdjoY"
      }
    },
    {
      "cell_type": "code",
      "source": [
        "from sklearn.utils import resample\n",
        "\n",
        "count = [class_distribution.get(i, 0) for i in range(max(class_distribution.keys())+1)]\n",
        "\n",
        "# Applying the median count for activity levels other than 0\n",
        "COUNT = np.max(count)\n",
        "\n",
        "# Creating sequences for Activity2 == 0\n",
        "ActivityLevel_0 = X_train_rnn[y_train_rnn == 0]\n",
        "ActivityLevel_1 = X_train_rnn[y_train_rnn == 1]\n",
        "ActivityLevel_2 = X_train_rnn[y_train_rnn == 2]\n",
        "ActivityLevel_3 = X_train_rnn[y_train_rnn == 3]\n",
        "\n",
        "# Creating separate labels for these sequences\n",
        "ActivityLabel_0 = y_train_rnn[y_train_rnn == 0]\n",
        "ActivityLabel_1 = y_train_rnn[y_train_rnn == 1]\n",
        "ActivityLabel_2 = y_train_rnn[y_train_rnn == 2]\n",
        "ActivityLabel_3 = y_train_rnn[y_train_rnn == 3]\n",
        "\n",
        "# Performing oversampling for activity levels other than 0\n",
        "ActivityLevel_0_eq = resample(ActivityLevel_0,replace=False,n_samples=int(COUNT),random_state=42)\n",
        "#\n",
        "ActivityLevel_1_eq = resample(ActivityLevel_1,replace=True,n_samples=int(COUNT),random_state=42)\n",
        "ActivityLevel_2_eq = resample(ActivityLevel_2,replace=True,n_samples=int(COUNT),random_state=42)\n",
        "ActivityLevel_3_eq = resample(ActivityLevel_3,replace=True,n_samples=int(COUNT),random_state=42)\n",
        "\n",
        "\n",
        "ActivityLabel_0_eq = np.zeros(int(COUNT))\n",
        "#\n",
        "ActivityLabel_1_eq = np.ones(int(COUNT))\n",
        "ActivityLabel_2_eq = 2*np.ones(int(COUNT))\n",
        "ActivityLabel_3_eq = 3*np.ones(int(COUNT))"
      ],
      "metadata": {
        "id": "8WgcsaGgdqcH"
      },
      "execution_count": null,
      "outputs": []
    },
    {
      "cell_type": "code",
      "source": [
        "# Concatenating oversampled training sequences together\n",
        "X_train_eq = np.concatenate((ActivityLevel_0, ActivityLevel_1_eq, ActivityLevel_2_eq, ActivityLevel_3_eq))\n",
        "\n",
        "y_train_eq = np.concatenate((ActivityLabel_0, ActivityLabel_1_eq, ActivityLabel_2_eq, ActivityLabel_3_eq))\n",
        "\n",
        "# Observing distribution\n",
        "unique_eq, counts_eq = np.unique(y_train_eq, return_counts=True)\n",
        "class_distribution_resampled = dict(zip(unique_eq, counts_eq))\n",
        "print(class_distribution_resampled)\n",
        "\n",
        "# Validating the dimensions of the resampled training sets\n",
        "print(X_train_eq.shape, y_train_eq.shape)"
      ],
      "metadata": {
        "id": "y5x3i2Z2d29e",
        "colab": {
          "base_uri": "https://localhost:8080/"
        },
        "outputId": "e949a458-28fc-4b01-b8d2-c54022c23b9c"
      },
      "execution_count": null,
      "outputs": [
        {
          "output_type": "stream",
          "name": "stdout",
          "text": [
            "{0.0: 5301, 1.0: 5301, 2.0: 5301, 3.0: 5301}\n",
            "(21204, 100, 12) (21204,)\n"
          ]
        }
      ]
    },
    {
      "cell_type": "markdown",
      "source": [
        "### RNN model building with PyTorch"
      ],
      "metadata": {
        "id": "51HFtXkieDki"
      }
    },
    {
      "cell_type": "code",
      "source": [
        "import torch as t\n",
        "import torch.nn as nn\n",
        "from torch.optim import Adam\n",
        "from torch.utils.data import TensorDataset, DataLoader\n",
        "\n",
        "# Hyperparameters\n",
        "input_size = X_train_eq.shape[2]\n",
        "hidden_size = 256  # Number of hidden units in RNN\n",
        "num_classes = 4  # For four-class classification\n",
        "epochs = 20\n",
        "learning_rate = 0.001\n",
        "batch_size = 400\n",
        "_lambda_ = 0.000001  # Regularization term (lambda)\n",
        "\n",
        "# Data preparation\n",
        "train_dataset = TensorDataset(t.tensor(X_train_eq, dtype=t.float32), t.tensor(y_train_eq, dtype=t.long))\n",
        "train_data_loader = DataLoader(train_dataset, batch_size=batch_size, shuffle=True)\n",
        "\n",
        "test_dataset = TensorDataset(t.tensor(X_test, dtype=t.float32), t.tensor(y_test, dtype=t.long))\n",
        "test_data_loader = DataLoader(test_dataset, batch_size=batch_size, shuffle=False)\n",
        "\n",
        "# RNN layers and additional fully connected layer\n",
        "rnn_layer1 = nn.RNN(input_size, hidden_size, batch_first=True)\n",
        "dropout1 = nn.Dropout(0.5)  # Add dropout between RNN layers\n",
        "# rnn_layer2 = nn.RNN(hidden_size, hidden_size, batch_first=True)\n",
        "# dropout2 = nn.Dropout(0.5)  # Add dropout between RNN layers\n",
        "fc_layer1 = nn.Linear(hidden_size, hidden_size // 2)  # Additional fully connected layer\n",
        "fc_layer2 = nn.Linear(hidden_size  // 2, num_classes)  # Final output layer\n",
        "\n",
        "# Dropout layer\n",
        "dropout_fc = nn.Dropout(0.2)  # Add dropout between fully connected layers\n",
        "\n",
        "# Activation function\n",
        "relu = nn.ReLU() # Since outcome is multi-class, ReLU can stil be used in the hidden layers\n",
        "\n",
        "# Loss function and optimizer\n",
        "loss_fn = nn.CrossEntropyLoss()\n",
        "# optimizer = Adam(list(rnn_layer1.parameters()) + list(rnn_layer2.parameters()) + list(fc_layer1.parameters()) + list(fc_layer2.parameters()), lr=learning_rate)\n",
        "# optimizer = Adam(list(rnn_layer1.parameters())+ list(fc_layer1.parameters()) + list(fc_layer2.parameters()), lr=learning_rate)\n",
        "\n",
        "# Lists to store accuracies and losses\n",
        "all_loss = []\n",
        "train_accuracy_list = []\n",
        "validation_accuracy_list = []\n",
        "train_loss_list = []\n",
        "\n",
        "# Training loop\n",
        "for epoch in range(epochs):\n",
        "\n",
        "    if epoch % 10 == 0:\n",
        "        learning_rate *= 0.9  # Learning rate scheduling\n",
        "\n",
        "    optimizer = Adam(list(rnn_layer1.parameters())+ list(fc_layer1.parameters()) + list(fc_layer2.parameters()), lr=learning_rate)\n",
        "\n",
        "    per_epoch_loss_list = []\n",
        "    for X, Y in train_data_loader:\n",
        "        # Forward pass through layers\n",
        "        out, _ = rnn_layer1(X)\n",
        "        out = dropout1(out)  # Apply dropout between RNN layers\n",
        "        # out, _ = rnn_layer2(out)\n",
        "        # out = dropout2(out)  # Apply dropout between RNN layers\n",
        "        out = out[:, -1, :]  # Get the last output of the sequence\n",
        "        out = relu(fc_layer1(out))  # Apply activation function after first fully connected layer\n",
        "        out = dropout_fc(out)  # Apply dropout between fully connected layers\n",
        "        out = fc_layer2(out)\n",
        "\n",
        "        # Regularization\n",
        "        # l2_term = sum([(w ** 2).sum() for w in list(rnn_layer1.parameters()) + list(rnn_layer2.parameters()) + list(fc_layer1.parameters()) + list(fc_layer2.parameters())])\n",
        "        # l2_term = sum([(w ** 2).sum() for w in list(rnn_layer1.parameters()) + list(fc_layer1.parameters()) + list(fc_layer2.parameters())])\n",
        "        # loss = loss_fn(out, Y) + landa * l2_term\n",
        "        loss = loss_fn(out, Y)\n",
        "        per_epoch_loss_list.append(loss.item())\n",
        "\n",
        "        # Backward pass and optimization\n",
        "        optimizer.zero_grad()\n",
        "        loss.backward()\n",
        "        optimizer.step()\n",
        "\n",
        "        # max_iter -=1\n",
        "        # if max_iter == 0:\n",
        "        #     break\n",
        "    all_loss += per_epoch_loss_list\n",
        "\n",
        "    # Evaluation on training and validation data\n",
        "    rnn_layer1.eval()\n",
        "    # rnn_layer2.eval()\n",
        "    fc_layer1.eval()\n",
        "    fc_layer2.eval()\n",
        "\n",
        "    with t.no_grad():\n",
        "        # Training data\n",
        "        train_correct, train_total = 0, 0\n",
        "        for X, Y in train_data_loader:\n",
        "            out, _ = rnn_layer1(X)\n",
        "            # out, _ = rnn_layer2(out)\n",
        "            out = out[:, -1, :]\n",
        "            out = relu(fc_layer1(out))\n",
        "            out = fc_layer2(out)\n",
        "            _, predicted = t.max(out.data, 1)\n",
        "            train_total += Y.size(0)\n",
        "            train_correct += (predicted == Y).sum().item()\n",
        "        train_accuracy = 100 * train_correct / train_total\n",
        "\n",
        "        # Validation data\n",
        "        validation_correct, validation_total = 0, 0\n",
        "        for X, Y in test_data_loader:\n",
        "            out, _ = rnn_layer1(X)\n",
        "            # out, _ = rnn_layer2(out)\n",
        "            out = out[:, -1, :]\n",
        "            out = relu(fc_layer1(out))\n",
        "            out = fc_layer2(out)\n",
        "            _, predicted = t.max(out.data, 1)\n",
        "            validation_total += Y.size(0)\n",
        "            validation_correct += (predicted == Y).sum().item()\n",
        "        validation_accuracy = 100 * validation_correct / validation_total\n",
        "\n",
        "        # Print accuracy for the current epoch\n",
        "        print(f'Epoch {epoch}/{epochs} ---> Train Accuracy: {train_accuracy}%, Validation Accuracy: {validation_accuracy}%')\n",
        "\n",
        "        # Append accuracy values to lists\n",
        "        train_accuracy_list.append(train_accuracy)\n",
        "        validation_accuracy_list.append(validation_accuracy)\n",
        "\n",
        "    # Calculate and append the average loss for the epoch\n",
        "    train_loss_list.append(sum(per_epoch_loss_list) / len(per_epoch_loss_list))\n",
        "\n",
        "    # Set the model back to train mode\n",
        "    rnn_layer1.train()\n",
        "    # rnn_layer2.train()\n",
        "    fc_layer1.train()\n",
        "    fc_layer2.train()"
      ],
      "metadata": {
        "id": "Ipt8xTnoeIDm",
        "colab": {
          "base_uri": "https://localhost:8080/"
        },
        "outputId": "988f0fa1-0da0-4fe3-affe-c37852f319e7"
      },
      "execution_count": null,
      "outputs": [
        {
          "output_type": "stream",
          "name": "stdout",
          "text": [
            "Epoch 0/20 ---> Train Accuracy: 58.16355404640634%, Validation Accuracy: 9.479768786127167%\n",
            "Epoch 1/20 ---> Train Accuracy: 61.05451801546878%, Validation Accuracy: 11.946050096339114%\n",
            "Epoch 2/20 ---> Train Accuracy: 68.71345029239767%, Validation Accuracy: 27.129094412331405%\n",
            "Epoch 3/20 ---> Train Accuracy: 69.79343520090549%, Validation Accuracy: 21.926782273603084%\n",
            "Epoch 4/20 ---> Train Accuracy: 62.162799471797776%, Validation Accuracy: 24.084778420038536%\n",
            "Epoch 5/20 ---> Train Accuracy: 69.11431805319751%, Validation Accuracy: 17.148362235067438%\n",
            "Epoch 6/20 ---> Train Accuracy: 69.65195246179967%, Validation Accuracy: 34.91329479768786%\n",
            "Epoch 7/20 ---> Train Accuracy: 77.34389737785324%, Validation Accuracy: 28.670520231213874%\n",
            "Epoch 8/20 ---> Train Accuracy: 73.91058290888512%, Validation Accuracy: 29.710982658959537%\n",
            "Epoch 9/20 ---> Train Accuracy: 75.53291831729862%, Validation Accuracy: 34.8747591522158%\n",
            "Epoch 10/20 ---> Train Accuracy: 67.88813431428032%, Validation Accuracy: 21.387283236994218%\n",
            "Epoch 11/20 ---> Train Accuracy: 73.85870590454631%, Validation Accuracy: 26.666666666666668%\n",
            "Epoch 12/20 ---> Train Accuracy: 74.24070930013205%, Validation Accuracy: 33.333333333333336%\n",
            "Epoch 13/20 ---> Train Accuracy: 70.15657423127712%, Validation Accuracy: 34.104046242774565%\n",
            "Epoch 14/20 ---> Train Accuracy: 78.26353518204112%, Validation Accuracy: 34.25818882466281%\n",
            "Epoch 15/20 ---> Train Accuracy: 73.99547255234862%, Validation Accuracy: 30.86705202312139%\n",
            "Epoch 16/20 ---> Train Accuracy: 72.524052065648%, Validation Accuracy: 31.63776493256262%\n",
            "Epoch 17/20 ---> Train Accuracy: 79.79626485568761%, Validation Accuracy: 33.71868978805395%\n",
            "Epoch 18/20 ---> Train Accuracy: 75.70741369552914%, Validation Accuracy: 32.48554913294798%\n",
            "Epoch 19/20 ---> Train Accuracy: 70.3923787964535%, Validation Accuracy: 34.45086705202312%\n"
          ]
        }
      ]
    },
    {
      "cell_type": "code",
      "source": [
        "plt.plot([i for i in range(len(all_loss))], all_loss, label=\"Train\")\n",
        "plt.xlabel('Batch Iteration')\n",
        "plt.ylabel('Train Loss')\n",
        "plt.show()"
      ],
      "metadata": {
        "id": "0RkCKHAWe0Hf",
        "colab": {
          "base_uri": "https://localhost:8080/",
          "height": 449
        },
        "outputId": "d93d6aca-057f-4670-b655-fc0c7ecaadff"
      },
      "execution_count": null,
      "outputs": [
        {
          "output_type": "display_data",
          "data": {
            "text/plain": [
              "<Figure size 640x480 with 1 Axes>"
            ],
            "image/png": "[encoded data removed]"
          },
          "metadata": {}
        }
      ]
    },
    {
      "cell_type": "code",
      "source": [],
      "metadata": {
        "id": "ctQvCxm5x_hk"
      },
      "execution_count": null,
      "outputs": []
    },
    {
      "cell_type": "markdown",
      "source": [
        "### Plot training and validation accuracy over epochs"
      ],
      "metadata": {
        "id": "29t8PLYdefqV"
      }
    },
    {
      "cell_type": "code",
      "source": [
        "plt.plot([i for i in range(len(train_accuracy_list))], train_accuracy_list, label=\"Train\")\n",
        "plt.plot([i for i in range(len(validation_accuracy_list))], validation_accuracy_list, label=\"Validation\")\n",
        "plt.legend(loc=\"upper left\")\n",
        "plt.xlabel('Epochs')\n",
        "plt.ylabel('Accuracy')\n",
        "plt.show()"
      ],
      "metadata": {
        "id": "Nd8CutX1exfi",
        "colab": {
          "base_uri": "https://localhost:8080/",
          "height": 449
        },
        "outputId": "cc297937-745c-44b2-cc2a-dc363a069149"
      },
      "execution_count": null,
      "outputs": [
        {
          "output_type": "display_data",
          "data": {
            "text/plain": [
              "<Figure size 640x480 with 1 Axes>"
            ],
            "image/png": "[encoded data removed]"
          },
          "metadata": {}
        }
      ]
    },
    {
      "cell_type": "markdown",
      "source": [
        "# 5.Long Short-Term Memory network (LSTM) - EL"
      ],
      "metadata": {
        "id": "LmK3CxrK_VHv"
      }
    },
    {
      "cell_type": "markdown",
      "source": [
        "### Splitting into test and training (80:20)"
      ],
      "metadata": {
        "id": "1zT5hOfdyAhS"
      }
    },
    {
      "cell_type": "code",
      "source": [
        "# Grouping by 'patient_nbr' and creating a list of dataframes, one per group\n",
        "grouped = df.groupby('subject')\n",
        "grouped_dfs = [group for _, group in grouped]\n",
        "\n",
        "# Splitting the groups into training and test sets with an 80:20 ratio\n",
        "train_groups, test_groups = train_test_split(grouped_dfs, test_size=0.2, random_state=42) #Shuffle = False prevents reshuffling during split\n",
        "\n",
        "# Reassembling the training and test datasets from the groups\n",
        "train_df = pd.concat(train_groups)\n",
        "test_df = pd.concat(test_groups)\n",
        "\n",
        "# Displaying the shape of the training and test sets\n",
        "train_df_shape = train_df.shape\n",
        "test_df_shape = test_df.shape\n",
        "\n",
        "train_df_shape, test_df_shape\n",
        "\n",
        "#Checking how many times each subject this appears\n",
        "print('Training Data:')\n",
        "print(train_df['subject'].value_counts()) #counting the number of records per patient\n",
        "print('Testing Data:')\n",
        "print(test_df['subject'].value_counts()) #counting the number of records per patient"
      ],
      "metadata": {
        "colab": {
          "base_uri": "https://localhost:8080/"
        },
        "id": "Hf9KiDNgnBrV",
        "outputId": "0c806cd4-48d8-4b99-81f3-c899748fc5fa"
      },
      "execution_count": null,
      "outputs": [
        {
          "output_type": "stream",
          "name": "stdout",
          "text": [
            "Training Data:\n",
            "subject1    161280\n",
            "subject3    122112\n",
            "subject5    119808\n",
            "subject4    116736\n",
            "subject7    104448\n",
            "subject6     98304\n",
            "subject9     17726\n",
            "Name: subject, dtype: int64\n",
            "Testing Data:\n",
            "subject2    130561\n",
            "subject8    129024\n",
            "Name: subject, dtype: int64\n"
          ]
        }
      ]
    },
    {
      "cell_type": "markdown",
      "source": [
        "### Scaling data"
      ],
      "metadata": {
        "id": "wKEuGu09hqir"
      }
    },
    {
      "cell_type": "code",
      "source": [
        "# Identifying numerical columns (excluding 'patient_nbr' and 'readmitted')\n",
        "numerical_columns = train_df.select_dtypes(include=['int64', 'float64']).columns.tolist()\n",
        "numerical_columns.remove('Activity') #Activity will be our label\n",
        "print(numerical_columns)\n",
        "\n",
        "# Initializing the StandardScaler\n",
        "scaler = StandardScaler()\n",
        "\n",
        "# Fitting the scaler to the training data and transforming both training and test data\n",
        "train_df[numerical_columns] = scaler.fit_transform(train_df[numerical_columns])\n",
        "test_df[numerical_columns] = scaler.transform(test_df[numerical_columns])\n",
        "\n",
        "# Checking the first few rows of the normalized training data\n",
        "train_df.head()"
      ],
      "metadata": {
        "colab": {
          "base_uri": "https://localhost:8080/",
          "height": 245
        },
        "id": "tjvEGksghpw9",
        "outputId": "6e7073b9-c33c-43a3-a673-f273b8ef8482"
      },
      "execution_count": null,
      "outputs": [
        {
          "output_type": "stream",
          "name": "stdout",
          "text": [
            "['alx', 'aly', 'alz', 'glx', 'gly', 'glz', 'arx', 'ary', 'arz', 'grx', 'gry', 'grz', 'Activity_Mapped']\n"
          ]
        },
        {
          "output_type": "execute_result",
          "data": {
            "text/plain": [
              "             alx       aly       alz       glx       gly       glz       arx  \\\n",
              "650497 -0.552567  0.055747 -0.810059  0.578981 -0.800349  0.501238 -1.814050   \n",
              "650498 -1.531305  0.104970 -0.369903  0.693642 -0.720535  0.533071 -1.213665   \n",
              "650499 -1.634742  0.162005 -0.446628  0.693642 -0.720535  0.533071 -0.665509   \n",
              "650500 -1.058302  0.102992 -0.337213  0.693642 -0.720535  0.533071 -0.339275   \n",
              "650501 -1.119704  0.167596 -0.387926  0.601930 -0.704601  0.653347 -0.163938   \n",
              "\n",
              "             ary       arz       grx       gry       grz  Activity   subject  \\\n",
              "650497  0.678081 -0.577362 -0.556227  2.101663  0.012934         0  subject6   \n",
              "650498  0.758524 -0.989728 -0.556227  2.101663  0.012934         0  subject6   \n",
              "650499  0.721946 -1.405218 -0.770194  1.968628 -0.202877         0  subject6   \n",
              "650500  0.722070 -1.640731 -0.770194  1.968628 -0.202877         0  subject6   \n",
              "650501  0.695687 -1.610853 -0.770194  1.968628 -0.202877         0  subject6   \n",
              "\n",
              "        Activity_Mapped  \n",
              "650497        -0.575178  \n",
              "650498        -0.575178  \n",
              "650499        -0.575178  \n",
              "650500        -0.575178  \n",
              "650501        -0.575178  "
            ],
            "text/html": [
              "\n",
              "  <div id=\"df-08f61b4a-2541-4d73-b42b-04877a808eae\" class=\"colab-df-container\">\n",
              "    <div>\n",
              "<style scoped>\n",
              "    .dataframe tbody tr th:only-of-type {\n",
              "        vertical-align: middle;\n",
              "    }\n",
              "\n",
              "    .dataframe tbody tr th {\n",
              "        vertical-align: top;\n",
              "    }\n",
              "\n",
              "    .dataframe thead th {\n",
              "        text-align: right;\n",
              "    }\n",
              "</style>\n",
              "<table border=\"1\" class=\"dataframe\">\n",
              "  <thead>\n",
              "    <tr style=\"text-align: right;\">\n",
              "      <th></th>\n",
              "      <th>alx</th>\n",
              "      <th>aly</th>\n",
              "      <th>alz</th>\n",
              "      <th>glx</th>\n",
              "      <th>gly</th>\n",
              "      <th>glz</th>\n",
              "      <th>arx</th>\n",
              "      <th>ary</th>\n",
              "      <th>arz</th>\n",
              "      <th>grx</th>\n",
              "      <th>gry</th>\n",
              "      <th>grz</th>\n",
              "      <th>Activity</th>\n",
              "      <th>subject</th>\n",
              "      <th>Activity_Mapped</th>\n",
              "    </tr>\n",
              "  </thead>\n",
              "  <tbody>\n",
              "    <tr>\n",
              "      <th>650497</th>\n",
              "      <td>-0.552567</td>\n",
              "      <td>0.055747</td>\n",
              "      <td>-0.810059</td>\n",
              "      <td>0.578981</td>\n",
              "      <td>-0.800349</td>\n",
              "      <td>0.501238</td>\n",
              "      <td>-1.814050</td>\n",
              "      <td>0.678081</td>\n",
              "      <td>-0.577362</td>\n",
              "      <td>-0.556227</td>\n",
              "      <td>2.101663</td>\n",
              "      <td>0.012934</td>\n",
              "      <td>0</td>\n",
              "      <td>subject6</td>\n",
              "      <td>-0.575178</td>\n",
              "    </tr>\n",
              "    <tr>\n",
              "      <th>650498</th>\n",
              "      <td>-1.531305</td>\n",
              "      <td>0.104970</td>\n",
              "      <td>-0.369903</td>\n",
              "      <td>0.693642</td>\n",
              "      <td>-0.720535</td>\n",
              "      <td>0.533071</td>\n",
              "      <td>-1.213665</td>\n",
              "      <td>0.758524</td>\n",
              "      <td>-0.989728</td>\n",
              "      <td>-0.556227</td>\n",
              "      <td>2.101663</td>\n",
              "      <td>0.012934</td>\n",
              "      <td>0</td>\n",
              "      <td>subject6</td>\n",
              "      <td>-0.575178</td>\n",
              "    </tr>\n",
              "    <tr>\n",
              "      <th>650499</th>\n",
              "      <td>-1.634742</td>\n",
              "      <td>0.162005</td>\n",
              "      <td>-0.446628</td>\n",
              "      <td>0.693642</td>\n",
              "      <td>-0.720535</td>\n",
              "      <td>0.533071</td>\n",
              "      <td>-0.665509</td>\n",
              "      <td>0.721946</td>\n",
              "      <td>-1.405218</td>\n",
              "      <td>-0.770194</td>\n",
              "      <td>1.968628</td>\n",
              "      <td>-0.202877</td>\n",
              "      <td>0</td>\n",
              "      <td>subject6</td>\n",
              "      <td>-0.575178</td>\n",
              "    </tr>\n",
              "    <tr>\n",
              "      <th>650500</th>\n",
              "      <td>-1.058302</td>\n",
              "      <td>0.102992</td>\n",
              "      <td>-0.337213</td>\n",
              "      <td>0.693642</td>\n",
              "      <td>-0.720535</td>\n",
              "      <td>0.533071</td>\n",
              "      <td>-0.339275</td>\n",
              "      <td>0.722070</td>\n",
              "      <td>-1.640731</td>\n",
              "      <td>-0.770194</td>\n",
              "      <td>1.968628</td>\n",
              "      <td>-0.202877</td>\n",
              "      <td>0</td>\n",
              "      <td>subject6</td>\n",
              "      <td>-0.575178</td>\n",
              "    </tr>\n",
              "    <tr>\n",
              "      <th>650501</th>\n",
              "      <td>-1.119704</td>\n",
              "      <td>0.167596</td>\n",
              "      <td>-0.387926</td>\n",
              "      <td>0.601930</td>\n",
              "      <td>-0.704601</td>\n",
              "      <td>0.653347</td>\n",
              "      <td>-0.163938</td>\n",
              "      <td>0.695687</td>\n",
              "      <td>-1.610853</td>\n",
              "      <td>-0.770194</td>\n",
              "      <td>1.968628</td>\n",
              "      <td>-0.202877</td>\n",
              "      <td>0</td>\n",
              "      <td>subject6</td>\n",
              "      <td>-0.575178</td>\n",
              "    </tr>\n",
              "  </tbody>\n",
              "</table>\n",
              "</div>\n",
              "    <div class=\"colab-df-buttons\">\n",
              "\n",
              "  <div class=\"colab-df-container\">\n",
              "    <button class=\"colab-df-convert\" onclick=\"convertToInteractive('df-08f61b4a-2541-4d73-b42b-04877a808eae')\"\n",
              "            title=\"Convert this dataframe to an interactive table.\"\n",
              "            style=\"display:none;\">\n",
              "\n",
              "  <svg xmlns=\"http://www.w3.org/2000/svg\" height=\"24px\" viewBox=\"0 -960 960 960\">\n",
              "    <path d=\"M120-120v-720h720v720H120Zm60-500h600v-160H180v160Zm220 220h160v-160H400v160Zm0 220h160v-160H400v160ZM180-400h160v-160H180v160Zm440 0h160v-160H620v160ZM180-180h160v-160H180v160Zm440 0h160v-160H620v160Z\"/>\n",
              "  </svg>\n",
              "    </button>\n",
              "\n",
              "  <style>\n",
              "    .colab-df-container {\n",
              "      display:flex;\n",
              "      gap: 12px;\n",
              "    }\n",
              "\n",
              "    .colab-df-convert {\n",
              "      background-color: #E8F0FE;\n",
              "      border: none;\n",
              "      border-radius: 50%;\n",
              "      cursor: pointer;\n",
              "      display: none;\n",
              "      fill: #1967D2;\n",
              "      height: 32px;\n",
              "      padding: 0 0 0 0;\n",
              "      width: 32px;\n",
              "    }\n",
              "\n",
              "    .colab-df-convert:hover {\n",
              "      background-color: #E2EBFA;\n",
              "      box-shadow: 0px 1px 2px rgba(60, 64, 67, 0.3), 0px 1px 3px 1px rgba(60, 64, 67, 0.15);\n",
              "      fill: #174EA6;\n",
              "    }\n",
              "\n",
              "    .colab-df-buttons div {\n",
              "      margin-bottom: 4px;\n",
              "    }\n",
              "\n",
              "    [theme=dark] .colab-df-convert {\n",
              "      background-color: #3B4455;\n",
              "      fill: #D2E3FC;\n",
              "    }\n",
              "\n",
              "    [theme=dark] .colab-df-convert:hover {\n",
              "      background-color: #434B5C;\n",
              "      box-shadow: 0px 1px 3px 1px rgba(0, 0, 0, 0.15);\n",
              "      filter: drop-shadow(0px 1px 2px rgba(0, 0, 0, 0.3));\n",
              "      fill: #FFFFFF;\n",
              "    }\n",
              "  </style>\n",
              "\n",
              "    <script>\n",
              "      const buttonEl =\n",
              "        document.querySelector('#df-08f61b4a-2541-4d73-b42b-04877a808eae button.colab-df-convert');\n",
              "      buttonEl.style.display =\n",
              "        google.colab.kernel.accessAllowed ? 'block' : 'none';\n",
              "\n",
              "      async function convertToInteractive(key) {\n",
              "        const element = document.querySelector('#df-08f61b4a-2541-4d73-b42b-04877a808eae');\n",
              "        const dataTable =\n",
              "          await google.colab.kernel.invokeFunction('convertToInteractive',\n",
              "                                                    [key], {});\n",
              "        if (!dataTable) return;\n",
              "\n",
              "        const docLinkHtml = 'Like what you see? Visit the ' +\n",
              "          '<a target=\"_blank\" href=https://colab.research.google.com/notebooks/data_table.ipynb>data table notebook</a>'\n",
              "          + ' to learn more about interactive tables.';\n",
              "        element.innerHTML = '';\n",
              "        dataTable['output_type'] = 'display_data';\n",
              "        await google.colab.output.renderOutput(dataTable, element);\n",
              "        const docLink = document.createElement('div');\n",
              "        docLink.innerHTML = docLinkHtml;\n",
              "        element.appendChild(docLink);\n",
              "      }\n",
              "    </script>\n",
              "  </div>\n",
              "\n",
              "\n",
              "<div id=\"df-fed13ed3-11bc-4cca-9b43-aec12225dba3\">\n",
              "  <button class=\"colab-df-quickchart\" onclick=\"quickchart('df-fed13ed3-11bc-4cca-9b43-aec12225dba3')\"\n",
              "            title=\"Suggest charts\"\n",
              "            style=\"display:none;\">\n",
              "\n",
              "<svg xmlns=\"http://www.w3.org/2000/svg\" height=\"24px\"viewBox=\"0 0 24 24\"\n",
              "     width=\"24px\">\n",
              "    <g>\n",
              "        <path d=\"M19 3H5c-1.1 0-2 .9-2 2v14c0 1.1.9 2 2 2h14c1.1 0 2-.9 2-2V5c0-1.1-.9-2-2-2zM9 17H7v-7h2v7zm4 0h-2V7h2v10zm4 0h-2v-4h2v4z\"/>\n",
              "    </g>\n",
              "</svg>\n",
              "  </button>\n",
              "\n",
              "<style>\n",
              "  .colab-df-quickchart {\n",
              "      --bg-color: #E8F0FE;\n",
              "      --fill-color: #1967D2;\n",
              "      --hover-bg-color: #E2EBFA;\n",
              "      --hover-fill-color: #174EA6;\n",
              "      --disabled-fill-color: #AAA;\n",
              "      --disabled-bg-color: #DDD;\n",
              "  }\n",
              "\n",
              "  [theme=dark] .colab-df-quickchart {\n",
              "      --bg-color: #3B4455;\n",
              "      --fill-color: #D2E3FC;\n",
              "      --hover-bg-color: #434B5C;\n",
              "      --hover-fill-color: #FFFFFF;\n",
              "      --disabled-bg-color: #3B4455;\n",
              "      --disabled-fill-color: #666;\n",
              "  }\n",
              "\n",
              "  .colab-df-quickchart {\n",
              "    background-color: var(--bg-color);\n",
              "    border: none;\n",
              "    border-radius: 50%;\n",
              "    cursor: pointer;\n",
              "    display: none;\n",
              "    fill: var(--fill-color);\n",
              "    height: 32px;\n",
              "    padding: 0;\n",
              "    width: 32px;\n",
              "  }\n",
              "\n",
              "  .colab-df-quickchart:hover {\n",
              "    background-color: var(--hover-bg-color);\n",
              "    box-shadow: 0 1px 2px rgba(60, 64, 67, 0.3), 0 1px 3px 1px rgba(60, 64, 67, 0.15);\n",
              "    fill: var(--button-hover-fill-color);\n",
              "  }\n",
              "\n",
              "  .colab-df-quickchart-complete:disabled,\n",
              "  .colab-df-quickchart-complete:disabled:hover {\n",
              "    background-color: var(--disabled-bg-color);\n",
              "    fill: var(--disabled-fill-color);\n",
              "    box-shadow: none;\n",
              "  }\n",
              "\n",
              "  .colab-df-spinner {\n",
              "    border: 2px solid var(--fill-color);\n",
              "    border-color: transparent;\n",
              "    border-bottom-color: var(--fill-color);\n",
              "    animation:\n",
              "      spin 1s steps(1) infinite;\n",
              "  }\n",
              "\n",
              "  @keyframes spin {\n",
              "    0% {\n",
              "      border-color: transparent;\n",
              "      border-bottom-color: var(--fill-color);\n",
              "      border-left-color: var(--fill-color);\n",
              "    }\n",
              "    20% {\n",
              "      border-color: transparent;\n",
              "      border-left-color: var(--fill-color);\n",
              "      border-top-color: var(--fill-color);\n",
              "    }\n",
              "    30% {\n",
              "      border-color: transparent;\n",
              "      border-left-color: var(--fill-color);\n",
              "      border-top-color: var(--fill-color);\n",
              "      border-right-color: var(--fill-color);\n",
              "    }\n",
              "    40% {\n",
              "      border-color: transparent;\n",
              "      border-right-color: var(--fill-color);\n",
              "      border-top-color: var(--fill-color);\n",
              "    }\n",
              "    60% {\n",
              "      border-color: transparent;\n",
              "      border-right-color: var(--fill-color);\n",
              "    }\n",
              "    80% {\n",
              "      border-color: transparent;\n",
              "      border-right-color: var(--fill-color);\n",
              "      border-bottom-color: var(--fill-color);\n",
              "    }\n",
              "    90% {\n",
              "      border-color: transparent;\n",
              "      border-bottom-color: var(--fill-color);\n",
              "    }\n",
              "  }\n",
              "</style>\n",
              "\n",
              "  <script>\n",
              "    async function quickchart(key) {\n",
              "      const quickchartButtonEl =\n",
              "        document.querySelector('#' + key + ' button');\n",
              "      quickchartButtonEl.disabled = true;  // To prevent multiple clicks.\n",
              "      quickchartButtonEl.classList.add('colab-df-spinner');\n",
              "      try {\n",
              "        const charts = await google.colab.kernel.invokeFunction(\n",
              "            'suggestCharts', [key], {});\n",
              "      } catch (error) {\n",
              "        console.error('Error during call to suggestCharts:', error);\n",
              "      }\n",
              "      quickchartButtonEl.classList.remove('colab-df-spinner');\n",
              "      quickchartButtonEl.classList.add('colab-df-quickchart-complete');\n",
              "    }\n",
              "    (() => {\n",
              "      let quickchartButtonEl =\n",
              "        document.querySelector('#df-fed13ed3-11bc-4cca-9b43-aec12225dba3 button');\n",
              "      quickchartButtonEl.style.display =\n",
              "        google.colab.kernel.accessAllowed ? 'block' : 'none';\n",
              "    })();\n",
              "  </script>\n",
              "</div>\n",
              "    </div>\n",
              "  </div>\n"
            ]
          },
          "metadata": {},
          "execution_count": 71
        }
      ]
    },
    {
      "cell_type": "markdown",
      "source": [
        "### Generating sequences for activity and subject"
      ],
      "metadata": {
        "id": "oHFzkYjUiUq_"
      }
    },
    {
      "cell_type": "code",
      "source": [
        "sensor_columns = ['alx', 'aly', 'alz', 'glx', 'gly', 'glz', 'arx', 'ary', 'arz', 'grx', 'gry', 'grz']\n",
        "\n",
        "def create_sequences(data, sequence_length=100):\n",
        "    sequences = []\n",
        "    output = []\n",
        "    for i in range(0, len(data) - sequence_length + 1, sequence_length):\n",
        "        sequence = data[i:i + sequence_length]\n",
        "        # Assuming 'Activity' is the target variable and is the same for the entire sequence\n",
        "        label = sequence['Activity_Mapped'].iloc[0]\n",
        "        sequences.append(sequence[sensor_columns].values)\n",
        "        output.append(label)\n",
        "\n",
        "    return np.array(sequences), np.array(output)\n",
        "\n",
        "# Creating sequences for training and test data\n",
        "X_train, y_train = create_sequences(train_df, sequence_length=100)\n",
        "X_test, y_test = create_sequences(test_df, sequence_length=100)"
      ],
      "metadata": {
        "id": "HdJKRfbW-t5q"
      },
      "execution_count": null,
      "outputs": []
    },
    {
      "cell_type": "markdown",
      "source": [
        "### LTSM Model"
      ],
      "metadata": {
        "id": "kVRFbK57ij6q"
      }
    },
    {
      "cell_type": "code",
      "source": [
        "import torch as t\n",
        "import torch.nn as nn\n",
        "from torch.optim import Adam\n",
        "from torch.utils.data import TensorDataset, DataLoader"
      ],
      "metadata": {
        "id": "rxUW7eQI_XGi"
      },
      "execution_count": null,
      "outputs": []
    },
    {
      "cell_type": "code",
      "source": [
        "# Hyperparameters\n",
        "input_size = len(sensor_columns)\n",
        "hidden_size = 128  # Number of hidden units in RNN\n",
        "num_classes = 4  # For four-class classification\n",
        "epochs = 30\n",
        "learning_rate = 0.001\n",
        "batch_size = 256\n",
        "landa = 0.001  # Regularization term (lambda)"
      ],
      "metadata": {
        "id": "jmPzqZ7z_abC"
      },
      "execution_count": null,
      "outputs": []
    },
    {
      "cell_type": "code",
      "source": [
        "# Data preparation\n",
        "train_dataset = TensorDataset(t.tensor(X_train, dtype=t.float32), t.tensor(y_train, dtype=t.long))\n",
        "train_data_loader = DataLoader(train_dataset, batch_size=batch_size, shuffle=True)\n",
        "\n",
        "test_dataset = TensorDataset(t.tensor(X_test, dtype=t.float32), t.tensor(y_test, dtype=t.long))\n",
        "test_data_loader = DataLoader(test_dataset, batch_size=batch_size, shuffle=False)"
      ],
      "metadata": {
        "id": "hA1T7x_O_lwu"
      },
      "execution_count": null,
      "outputs": []
    },
    {
      "cell_type": "code",
      "source": [
        "# RNN layers and additional fully connected layer\n",
        "rnn_layer1 = nn.LSTM(input_size, hidden_size, batch_first=True)\n",
        "dropout1 = nn.Dropout(0.5)  # Add dropout between RNN layers\n",
        "# rnn_layer2 = nn.LSTM(hidden_size, hidden_size, batch_first=True)\n",
        "# dropout2 = nn.Dropout(0.5)  # Add dropout between RNN layers\n",
        "fc_layer1 = nn.Linear(hidden_size, hidden_size)  # Additional fully connected layer\n",
        "fc_layer2 = nn.Linear(hidden_size, num_classes)  # Final output layer"
      ],
      "metadata": {
        "id": "8HDBNVp0_oK5"
      },
      "execution_count": null,
      "outputs": []
    },
    {
      "cell_type": "code",
      "source": [
        "# Dropout layer\n",
        "dropout_fc = nn.Dropout(0.2)  # Add dropout between fully connected layers\n",
        "\n",
        "# Activation function\n",
        "relu = nn.ReLU()\n",
        "\n",
        "# Loss function and optimizer\n",
        "loss_fn = nn.CrossEntropyLoss()\n",
        "# optimizer = Adam(list(rnn_layer1.parameters()) + list(rnn_layer2.parameters()) + list(fc_layer1.parameters()) + list(fc_layer2.parameters()), lr=learning_rate)\n",
        "optimizer = Adam(list(rnn_layer1.parameters()) + list(fc_layer1.parameters()) + list(fc_layer2.parameters()), lr=learning_rate)\n",
        "\n",
        "# Lists to store accuracies and losses\n",
        "train_accuracy_list = []\n",
        "validation_accuracy_list = []\n",
        "train_loss_list = []"
      ],
      "metadata": {
        "id": "44RR6vws_qJb"
      },
      "execution_count": null,
      "outputs": []
    },
    {
      "cell_type": "code",
      "source": [
        "# Training loop\n",
        "for epoch in range(epochs):\n",
        "    if epoch % 10 == 0:\n",
        "        learning_rate *= 0.9  # Learning rate scheduling\n",
        "\n",
        "    per_epoch_loss_list = []\n",
        "    for X, Y in train_data_loader:\n",
        "        # Forward pass through layers\n",
        "        out, _ = rnn_layer1(X)\n",
        "        out = dropout1(out)  # Apply dropout between RNN layers\n",
        "        # out, _ = rnn_layer2(out)\n",
        "        # out = dropout2(out)  # Apply dropout between RNN layers\n",
        "        out = out[:, -1, :]  # Get the last output of the sequence\n",
        "        out = relu(fc_layer1(out))  # Apply activation function after first fully connected layer\n",
        "        out = dropout_fc(out)  # Apply dropout between fully connected layers\n",
        "        out = fc_layer2(out)\n",
        "\n",
        "        # Regularization\n",
        "        # l2_term = sum([(w ** 2).sum() for w in list(rnn_layer1.parameters()) + list(rnn_layer2.parameters()) + list(fc_layer1.parameters()) + list(fc_layer2.parameters())])\n",
        "        # loss = loss_fn(out, Y) + landa * l2_term\n",
        "        loss = loss_fn(out, Y)\n",
        "\n",
        "        per_epoch_loss_list.append(loss.item())\n",
        "\n",
        "        # Backward pass and optimization\n",
        "        optimizer.zero_grad()\n",
        "        loss.backward()\n",
        "        optimizer.step()\n",
        "\n",
        "    # Evaluation on training and validation data\n",
        "    rnn_layer1.eval()\n",
        "    # rnn_layer2.eval()\n",
        "    fc_layer1.eval()\n",
        "    fc_layer2.eval()\n",
        "\n",
        "    with t.no_grad():\n",
        "        # Training data\n",
        "        train_correct, train_total = 0, 0\n",
        "        for X, Y in train_data_loader:\n",
        "            out, _ = rnn_layer1(X)\n",
        "            out = dropout1(out)  # Apply dropout between RNN layers\n",
        "            # out, _ = rnn_layer2(out)\n",
        "            # out = dropout2(out)  # Apply dropout between RNN layers\n",
        "            out = out[:, -1, :]\n",
        "            out = relu(fc_layer1(out))\n",
        "            out = dropout_fc(out)  # Apply dropout between fully connected layers\n",
        "            out = fc_layer2(out)\n",
        "            _, predicted = t.max(out.data, 1)\n",
        "            train_total += Y.size(0)\n",
        "            train_correct += (predicted == Y).sum().item()\n",
        "        train_accuracy = 100 * train_correct / train_total\n",
        "\n",
        "        # Validation data\n",
        "        validation_correct, validation_total = 0, 0\n",
        "        for X, Y in test_data_loader:\n",
        "            out, _ = rnn_layer1(X)\n",
        "            out = dropout1(out)  # Apply dropout between RNN layers\n",
        "            # out, _ = rnn_layer2(out)\n",
        "            # out = dropout2(out)  # Apply dropout between RNN layers\n",
        "            out = out[:, -1, :]\n",
        "            out = relu(fc_layer1(out))\n",
        "            out = dropout_fc(out)  # Apply dropout between fully connected layers\n",
        "            out = fc_layer2(out)\n",
        "            _, predicted = t.max(out.data, 1)\n",
        "            validation_total += Y.size(0)\n",
        "            validation_correct += (predicted == Y).sum().item()\n",
        "        validation_accuracy = 100 * validation_correct / validation_total\n",
        "\n",
        "        # Print accuracy for the current epoch\n",
        "        print(f'Epoch {epoch}/{epochs} ---> Train Accuracy: {train_accuracy}%, Validation Accuracy: {validation_accuracy}%')\n",
        "\n",
        "        # Append accuracy values to lists\n",
        "        train_accuracy_list.append(train_accuracy)\n",
        "        validation_accuracy_list.append(validation_accuracy)\n",
        "\n",
        "    # Calculate and append the average loss for the epoch\n",
        "    train_loss_list.append(sum(per_epoch_loss_list) / len(per_epoch_loss_list))\n",
        "\n",
        "    # Set the model back to train mode\n",
        "    rnn_layer1.train()\n",
        "    # rnn_layer2.train()\n",
        "    fc_layer1.train()\n",
        "    fc_layer2.train()"
      ],
      "metadata": {
        "id": "b9UeNzUo_tff",
        "colab": {
          "base_uri": "https://localhost:8080/"
        },
        "outputId": "2101b36d-ca4a-4997-8643-f7845ac0a462"
      },
      "execution_count": null,
      "outputs": [
        {
          "output_type": "stream",
          "name": "stdout",
          "text": [
            "Epoch 0/30 ---> Train Accuracy: 79.56509994597515%, Validation Accuracy: 80.57803468208093%\n",
            "Epoch 1/30 ---> Train Accuracy: 80.56455969746084%, Validation Accuracy: 81.34874759152216%\n",
            "Epoch 2/30 ---> Train Accuracy: 83.15775256618045%, Validation Accuracy: 82.0038535645472%\n",
            "Epoch 3/30 ---> Train Accuracy: 82.90113452188007%, Validation Accuracy: 82.89017341040463%\n",
            "Epoch 4/30 ---> Train Accuracy: 83.6709886547812%, Validation Accuracy: 83.35260115606937%\n",
            "Epoch 5/30 ---> Train Accuracy: 84.34629929767694%, Validation Accuracy: 83.54527938342967%\n",
            "Epoch 6/30 ---> Train Accuracy: 84.40032414910858%, Validation Accuracy: 83.23699421965318%\n",
            "Epoch 7/30 ---> Train Accuracy: 84.40032414910858%, Validation Accuracy: 82.08092485549133%\n",
            "Epoch 8/30 ---> Train Accuracy: 83.17125877903835%, Validation Accuracy: 83.27552986512524%\n",
            "Epoch 9/30 ---> Train Accuracy: 83.69800108049702%, Validation Accuracy: 83.54527938342967%\n",
            "Epoch 10/30 ---> Train Accuracy: 84.69746083198271%, Validation Accuracy: 82.27360308285164%\n",
            "Epoch 11/30 ---> Train Accuracy: 84.45434900054025%, Validation Accuracy: 81.96531791907515%\n",
            "Epoch 12/30 ---> Train Accuracy: 84.27876823338735%, Validation Accuracy: 78.92100192678227%\n",
            "Epoch 13/30 ---> Train Accuracy: 84.72447325769855%, Validation Accuracy: 82.85163776493256%\n",
            "Epoch 14/30 ---> Train Accuracy: 83.14424635332253%, Validation Accuracy: 82.35067437379575%\n",
            "Epoch 15/30 ---> Train Accuracy: 84.17071853052404%, Validation Accuracy: 82.04238921001927%\n",
            "Epoch 16/30 ---> Train Accuracy: 83.7655321447866%, Validation Accuracy: 82.23506743737957%\n",
            "Epoch 17/30 ---> Train Accuracy: 83.90059427336575%, Validation Accuracy: 82.85163776493256%\n",
            "Epoch 18/30 ---> Train Accuracy: 84.57590491626148%, Validation Accuracy: 82.77456647398844%\n",
            "Epoch 19/30 ---> Train Accuracy: 84.56239870340356%, Validation Accuracy: 81.61849710982659%\n",
            "Epoch 20/30 ---> Train Accuracy: 84.64343598055105%, Validation Accuracy: 82.54335260115607%\n",
            "Epoch 21/30 ---> Train Accuracy: 85.19719070772555%, Validation Accuracy: 82.23506743737957%\n",
            "Epoch 22/30 ---> Train Accuracy: 84.46785521339817%, Validation Accuracy: 83.62235067437379%\n",
            "Epoch 23/30 ---> Train Accuracy: 84.83252296056186%, Validation Accuracy: 82.38921001926782%\n",
            "Epoch 24/30 ---> Train Accuracy: 84.54889249054565%, Validation Accuracy: 78.76685934489403%\n",
            "Epoch 25/30 ---> Train Accuracy: 85.99405726634252%, Validation Accuracy: 81.0019267822736%\n",
            "Epoch 26/30 ---> Train Accuracy: 83.90059427336575%, Validation Accuracy: 77.30250481695569%\n",
            "Epoch 27/30 ---> Train Accuracy: 85.02160994057266%, Validation Accuracy: 82.42774566473989%\n",
            "Epoch 28/30 ---> Train Accuracy: 86.23716909778499%, Validation Accuracy: 82.85163776493256%\n",
            "Epoch 29/30 ---> Train Accuracy: 86.48028092922745%, Validation Accuracy: 81.92678227360308%\n"
          ]
        }
      ]
    },
    {
      "cell_type": "markdown",
      "source": [
        "### Performance Evaluation"
      ],
      "metadata": {
        "id": "U_RuWjkqiogY"
      }
    },
    {
      "cell_type": "code",
      "source": [
        "# Plot training and validation accuracy over epochs\n",
        "plt.plot([i for i in range(len(train_accuracy_list))], train_accuracy_list, label=\"Train\")\n",
        "plt.plot([i for i in range(len(validation_accuracy_list))], validation_accuracy_list, label=\"Validation\")\n",
        "plt.legend(loc=\"upper left\")\n",
        "plt.xlabel('Epochs')\n",
        "plt.ylabel('Accuracy')\n",
        "plt.xlim([0,30])\n",
        "plt.ylim([70,90])\n",
        "plt.show()"
      ],
      "metadata": {
        "id": "hJMnuHf-_uZ0",
        "colab": {
          "base_uri": "https://localhost:8080/",
          "height": 455
        },
        "outputId": "98c8ea18-05d5-40dd-91d7-c665d0206ff5"
      },
      "execution_count": null,
      "outputs": [
        {
          "output_type": "display_data",
          "data": {
            "text/plain": [
              "<Figure size 640x480 with 1 Axes>"
            ],
            "image/png": "[encoded data removed]"
          },
          "metadata": {}
        }
      ]
    }
  ]
}